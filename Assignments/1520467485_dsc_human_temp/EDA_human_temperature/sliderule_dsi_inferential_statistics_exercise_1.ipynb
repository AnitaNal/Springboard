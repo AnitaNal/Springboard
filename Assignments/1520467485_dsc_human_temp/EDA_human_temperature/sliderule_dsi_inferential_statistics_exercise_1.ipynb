{
 "cells": [
  {
   "cell_type": "markdown",
   "metadata": {},
   "source": [
    "# What is the True Normal Human Body Temperature? \n",
    "\n",
    "#### Background\n",
    "\n",
    "The mean normal body temperature was held to be 37$^{\\circ}$C or 98.6$^{\\circ}$F for more than 120 years since it was first conceptualized and reported by Carl Wunderlich in a famous 1868 book. But, is this value statistically correct?"
   ]
  },
  {
   "cell_type": "markdown",
   "metadata": {},
   "source": [
    "<h3>Exercises</h3>\n",
    "\n",
    "<p>In this exercise, you will analyze a dataset of human body temperatures and employ the concepts of hypothesis testing, confidence intervals, and statistical significance.</p>\n",
    "\n",
    "<p>Answer the following questions <b>in this notebook below and submit to your Github account</b>.</p> \n",
    "\n",
    "<ol>\n",
    "<li>  Is the distribution of body temperatures normal? \n",
    "    <ul>\n",
    "    <li> Although this is not a requirement for the Central Limit Theorem to hold (read the introduction on Wikipedia's page about the CLT carefully: https://en.wikipedia.org/wiki/Central_limit_theorem), it gives us some peace of mind that the population may also be normally distributed if we assume that this sample is representative of the population.\n",
    "    <li> Think about the way you're going to check for the normality of the distribution. Graphical methods are usually used first, but there are also other ways: https://en.wikipedia.org/wiki/Normality_test\n",
    "    </ul>\n",
    "<li>  Is the sample size large? Are the observations independent?\n",
    "    <ul>\n",
    "    <li> Remember that this is a condition for the Central Limit Theorem, and hence the statistical tests we are using, to apply.\n",
    "    </ul>\n",
    "<li>  Is the true population mean really 98.6 degrees F?\n",
    "    <ul>\n",
    "    <li> First, try a bootstrap hypothesis test.\n",
    "    <li> Now, let's try frequentist statistical testing. Would you use a one-sample or two-sample test? Why?\n",
    "    <li> In this situation, is it appropriate to use the $t$ or $z$ statistic? \n",
    "    <li> Now try using the other test. How is the result be different? Why?\n",
    "    </ul>\n",
    "<li>  Draw a small sample of size 10 from the data and repeat both frequentist tests. \n",
    "    <ul>\n",
    "    <li> Which one is the correct one to use? \n",
    "    <li> What do you notice? What does this tell you about the difference in application of the $t$ and $z$ statistic?\n",
    "    </ul>\n",
    "<li>  At what temperature should we consider someone's temperature to be \"abnormal\"?\n",
    "    <ul>\n",
    "    <li> As in the previous example, try calculating everything using the boostrap approach, as well as the frequentist approach.\n",
    "    <li> Start by computing the margin of error and confidence interval. When calculating the confidence interval, keep in mind that you should use the appropriate formula for one draw, and not N draws.\n",
    "    </ul>\n",
    "<li>  Is there a significant difference between males and females in normal temperature?\n",
    "    <ul>\n",
    "    <li> What testing approach did you use and why?\n",
    "    <li> Write a story with your conclusion in the context of the original problem.\n",
    "    </ul>\n",
    "</ol>\n",
    "\n",
    "You can include written notes in notebook cells using Markdown: \n",
    "   - In the control panel at the top, choose Cell > Cell Type > Markdown\n",
    "   - Markdown syntax: http://nestacms.com/docs/creating-content/markdown-cheat-sheet\n",
    "\n",
    "#### Resources\n",
    "\n",
    "+ Information and data sources: http://www.amstat.org/publications/jse/datasets/normtemp.txt, http://www.amstat.org/publications/jse/jse_data_archive.htm\n",
    "+ Markdown syntax: http://nestacms.com/docs/creating-content/markdown-cheat-sheet\n",
    "\n",
    "****"
   ]
  },
  {
   "cell_type": "code",
   "execution_count": 1,
   "metadata": {
    "collapsed": true
   },
   "outputs": [],
   "source": [
    "import pandas as pd\n",
    "import numpy as np\n",
    "import matplotlib.pyplot as plt\n",
    "import scipy.stats as stats\n",
    "from statsmodels.stats.diagnostic import lilliefors\n",
    "from statsmodels.stats.weightstats import ztest\n",
    "from statsmodels.graphics.gofplots import qqplot\n",
    "import seaborn as sns"
   ]
  },
  {
   "cell_type": "code",
   "execution_count": 2,
   "metadata": {},
   "outputs": [],
   "source": [
    "df = pd.read_csv('data/human_body_temperature.csv')"
   ]
  },
  {
   "cell_type": "code",
   "execution_count": 3,
   "metadata": {
    "collapsed": true
   },
   "outputs": [
    {
     "name": "stdout",
     "output_type": "stream",
     "text": [
      "<class 'pandas.core.frame.DataFrame'>\n",
      "RangeIndex: 130 entries, 0 to 129\n",
      "Data columns (total 3 columns):\n",
      "temperature    130 non-null float64\n",
      "gender         130 non-null object\n",
      "heart_rate     130 non-null float64\n",
      "dtypes: float64(2), object(1)\n",
      "memory usage: 3.1+ KB\n"
     ]
    }
   ],
   "source": [
    "df.info()"
   ]
  },
  {
   "cell_type": "code",
   "execution_count": 4,
   "metadata": {},
   "outputs": [
    {
     "data": {
      "text/html": [
       "<div>\n",
       "<style scoped>\n",
       "    .dataframe tbody tr th:only-of-type {\n",
       "        vertical-align: middle;\n",
       "    }\n",
       "\n",
       "    .dataframe tbody tr th {\n",
       "        vertical-align: top;\n",
       "    }\n",
       "\n",
       "    .dataframe thead th {\n",
       "        text-align: right;\n",
       "    }\n",
       "</style>\n",
       "<table border=\"1\" class=\"dataframe\">\n",
       "  <thead>\n",
       "    <tr style=\"text-align: right;\">\n",
       "      <th></th>\n",
       "      <th>temperature</th>\n",
       "      <th>gender</th>\n",
       "      <th>heart_rate</th>\n",
       "    </tr>\n",
       "  </thead>\n",
       "  <tbody>\n",
       "    <tr>\n",
       "      <th>0</th>\n",
       "      <td>99.3</td>\n",
       "      <td>F</td>\n",
       "      <td>68.0</td>\n",
       "    </tr>\n",
       "    <tr>\n",
       "      <th>1</th>\n",
       "      <td>98.4</td>\n",
       "      <td>F</td>\n",
       "      <td>81.0</td>\n",
       "    </tr>\n",
       "    <tr>\n",
       "      <th>2</th>\n",
       "      <td>97.8</td>\n",
       "      <td>M</td>\n",
       "      <td>73.0</td>\n",
       "    </tr>\n",
       "    <tr>\n",
       "      <th>3</th>\n",
       "      <td>99.2</td>\n",
       "      <td>F</td>\n",
       "      <td>66.0</td>\n",
       "    </tr>\n",
       "    <tr>\n",
       "      <th>4</th>\n",
       "      <td>98.0</td>\n",
       "      <td>F</td>\n",
       "      <td>73.0</td>\n",
       "    </tr>\n",
       "  </tbody>\n",
       "</table>\n",
       "</div>"
      ],
      "text/plain": [
       "   temperature gender  heart_rate\n",
       "0         99.3      F        68.0\n",
       "1         98.4      F        81.0\n",
       "2         97.8      M        73.0\n",
       "3         99.2      F        66.0\n",
       "4         98.0      F        73.0"
      ]
     },
     "execution_count": 4,
     "metadata": {},
     "output_type": "execute_result"
    }
   ],
   "source": [
    "df.head()"
   ]
  },
  {
   "cell_type": "markdown",
   "metadata": {},
   "source": [
    "## Question 1: Is the distribution of body temperatures normal?"
   ]
  },
  {
   "cell_type": "code",
   "execution_count": 5,
   "metadata": {},
   "outputs": [
    {
     "data": {
      "text/html": [
       "<div>\n",
       "<style scoped>\n",
       "    .dataframe tbody tr th:only-of-type {\n",
       "        vertical-align: middle;\n",
       "    }\n",
       "\n",
       "    .dataframe tbody tr th {\n",
       "        vertical-align: top;\n",
       "    }\n",
       "\n",
       "    .dataframe thead th {\n",
       "        text-align: right;\n",
       "    }\n",
       "</style>\n",
       "<table border=\"1\" class=\"dataframe\">\n",
       "  <thead>\n",
       "    <tr style=\"text-align: right;\">\n",
       "      <th></th>\n",
       "      <th>temperature</th>\n",
       "      <th>heart_rate</th>\n",
       "    </tr>\n",
       "  </thead>\n",
       "  <tbody>\n",
       "    <tr>\n",
       "      <th>count</th>\n",
       "      <td>130.000000</td>\n",
       "      <td>130.000000</td>\n",
       "    </tr>\n",
       "    <tr>\n",
       "      <th>mean</th>\n",
       "      <td>98.249231</td>\n",
       "      <td>73.761538</td>\n",
       "    </tr>\n",
       "    <tr>\n",
       "      <th>std</th>\n",
       "      <td>0.733183</td>\n",
       "      <td>7.062077</td>\n",
       "    </tr>\n",
       "    <tr>\n",
       "      <th>min</th>\n",
       "      <td>96.300000</td>\n",
       "      <td>57.000000</td>\n",
       "    </tr>\n",
       "    <tr>\n",
       "      <th>25%</th>\n",
       "      <td>97.800000</td>\n",
       "      <td>69.000000</td>\n",
       "    </tr>\n",
       "    <tr>\n",
       "      <th>50%</th>\n",
       "      <td>98.300000</td>\n",
       "      <td>74.000000</td>\n",
       "    </tr>\n",
       "    <tr>\n",
       "      <th>75%</th>\n",
       "      <td>98.700000</td>\n",
       "      <td>79.000000</td>\n",
       "    </tr>\n",
       "    <tr>\n",
       "      <th>max</th>\n",
       "      <td>100.800000</td>\n",
       "      <td>89.000000</td>\n",
       "    </tr>\n",
       "  </tbody>\n",
       "</table>\n",
       "</div>"
      ],
      "text/plain": [
       "       temperature  heart_rate\n",
       "count   130.000000  130.000000\n",
       "mean     98.249231   73.761538\n",
       "std       0.733183    7.062077\n",
       "min      96.300000   57.000000\n",
       "25%      97.800000   69.000000\n",
       "50%      98.300000   74.000000\n",
       "75%      98.700000   79.000000\n",
       "max     100.800000   89.000000"
      ]
     },
     "execution_count": 5,
     "metadata": {},
     "output_type": "execute_result"
    }
   ],
   "source": [
    "df.describe()"
   ]
  },
  {
   "cell_type": "code",
   "execution_count": 6,
   "metadata": {},
   "outputs": [
    {
     "data": {
      "image/png": "[encoded data removed]",
      "text/plain": [
       "<Figure size 432x288 with 1 Axes>"
      ]
     },
     "metadata": {},
     "output_type": "display_data"
    }
   ],
   "source": [
    "# Plotting a histogram to check the data distribution\n",
    "_ = plt.hist(df['temperature'])\n",
    "_ = plt.xlabel('Body Temperature (deg F)')\n",
    "_ = plt.ylabel('Frequency')"
   ]
  },
  {
   "cell_type": "markdown",
   "metadata": {},
   "source": [
    "The histogram of observed body temperature indicates that the data may be normally distributed.  In addition, the median and mean of the data appear to be very close.  However, I will perform further testing to prove that the data is normal. "
   ]
  },
  {
   "cell_type": "code",
   "execution_count": 7,
   "metadata": {},
   "outputs": [],
   "source": [
    "# Using the mean and standard deviation of the observed data to create 1000 samples following the normal distribution\n",
    "mean = np.mean(df['temperature'])\n",
    "std = np.std(df['temperature'], ddof = 1)\n",
    "samples = np.random.normal(mean, std, size = 1000)"
   ]
  },
  {
   "cell_type": "code",
   "execution_count": 8,
   "metadata": {},
   "outputs": [],
   "source": [
    "# Defining ecdf function\n",
    "def ecdf(data):\n",
    "    '''Computes an ECDF for a one dimensional array of measurements'''\n",
    "    n = len(data)\n",
    "    x = np.sort(data)\n",
    "    y = np.arange(1, n+1) / n\n",
    "    return x, y"
   ]
  },
  {
   "cell_type": "code",
   "execution_count": 9,
   "metadata": {},
   "outputs": [],
   "source": [
    "# Using the observed and theoretical data to get cdf's\n",
    "x, y = ecdf(df['temperature'])\n",
    "x_theor, y_theor = ecdf(samples)"
   ]
  },
  {
   "cell_type": "code",
   "execution_count": 10,
   "metadata": {},
   "outputs": [
    {
     "data": {
      "image/png": "[encoded data removed]",
      "text/plain": [
       "<Figure size 432x288 with 1 Axes>"
      ]
     },
     "metadata": {},
     "output_type": "display_data"
    }
   ],
   "source": [
    "# Plotting the real and theoretical cdf's \n",
    "_ = plt.plot(x_theor, y_theor)\n",
    "_ = plt.plot(x, y, marker = '.', linestyle = 'none')\n",
    "_ = plt.xlabel('Body Temperature (deg F)')\n",
    "_ = plt.ylabel('CDF')\n",
    "_ = plt.legend(('Theoretical Data', 'Observed Data'), loc = 'lower right')"
   ]
  },
  {
   "cell_type": "markdown",
   "metadata": {},
   "source": [
    "Since the CDF for the observations closely follow the CDF for the theoretical data sampled from a normal distribution, the distribution of observed body temperature is normal.  Additional tests for a normal distribution are performed below. "
   ]
  },
  {
   "cell_type": "code",
   "execution_count": 11,
   "metadata": {},
   "outputs": [
    {
     "data": {
      "image/png": "[encoded data removed]",
      "text/plain": [
       "<Figure size 432x288 with 1 Axes>"
      ]
     },
     "metadata": {},
     "output_type": "display_data"
    }
   ],
   "source": [
    "# Plotting a quantile to quantile plot\n",
    "_ = qqplot(df['temperature'], line='s')"
   ]
  },
  {
   "cell_type": "code",
   "execution_count": 12,
   "metadata": {},
   "outputs": [
    {
     "name": "stdout",
     "output_type": "stream",
     "text": [
      "The p-value is 0.2331680953502655\n"
     ]
    }
   ],
   "source": [
    "# Performing Shapiro-Wilk test\n",
    "stat, p_value = stats.shapiro(df['temperature'])\n",
    "print('The p-value is ' + str(p_value))"
   ]
  },
  {
   "cell_type": "code",
   "execution_count": 13,
   "metadata": {},
   "outputs": [
    {
     "name": "stdout",
     "output_type": "stream",
     "text": [
      "The p-value is 0.2587479863488254\n"
     ]
    }
   ],
   "source": [
    "# Performing D'Agostino's K2 test\n",
    "stat, p_value = stats.mstats.normaltest(df['temperature'])\n",
    "print('The p-value is ' + str(p_value))"
   ]
  },
  {
   "cell_type": "code",
   "execution_count": 14,
   "metadata": {},
   "outputs": [
    {
     "name": "stdout",
     "output_type": "stream",
     "text": [
      "The test statistic is 0.5201038826714353 and the critical values are [0.56  0.637 0.765 0.892 1.061]\n"
     ]
    }
   ],
   "source": [
    "# Performing Anderson-Darling test\n",
    "result = stats.anderson(df['temperature'])\n",
    "print('The test statistic is ' + str(result.statistic) + ' and the critical values are ' + str(result.critical_values))"
   ]
  },
  {
   "cell_type": "code",
   "execution_count": 15,
   "metadata": {},
   "outputs": [
    {
     "name": "stdout",
     "output_type": "stream",
     "text": [
      "The p-value is 0.2\n"
     ]
    }
   ],
   "source": [
    "# Performing Lilliefors test\n",
    "stat, p_value = lilliefors(df['temperature'])\n",
    "print('The p-value is ' + str(p_value))"
   ]
  },
  {
   "cell_type": "markdown",
   "metadata": {},
   "source": [
    "The quantile to quantile plot shows a strong correlation between the theoretical and sample quantiles.  In the Anderson-Darling test, the resulting test statistic was less than all of the critical values.  The remainder of the statistical tests had generally large (>0.05) p-values.  All of these tests confirm that the data can be treated as a normal distribution. "
   ]
  },
  {
   "cell_type": "markdown",
   "metadata": {},
   "source": [
    "## Question 2: Is the sample size large? Are the observations independent? "
   ]
  },
  {
   "cell_type": "code",
   "execution_count": 16,
   "metadata": {},
   "outputs": [
    {
     "name": "stdout",
     "output_type": "stream",
     "text": [
      "<class 'pandas.core.frame.DataFrame'>\n",
      "RangeIndex: 130 entries, 0 to 129\n",
      "Data columns (total 3 columns):\n",
      "temperature    130 non-null float64\n",
      "gender         130 non-null object\n",
      "heart_rate     130 non-null float64\n",
      "dtypes: float64(2), object(1)\n",
      "memory usage: 3.1+ KB\n"
     ]
    }
   ],
   "source": [
    "df.info()"
   ]
  },
  {
   "cell_type": "code",
   "execution_count": 17,
   "metadata": {},
   "outputs": [
    {
     "data": {
      "text/html": [
       "<div>\n",
       "<style scoped>\n",
       "    .dataframe tbody tr th:only-of-type {\n",
       "        vertical-align: middle;\n",
       "    }\n",
       "\n",
       "    .dataframe tbody tr th {\n",
       "        vertical-align: top;\n",
       "    }\n",
       "\n",
       "    .dataframe thead th {\n",
       "        text-align: right;\n",
       "    }\n",
       "</style>\n",
       "<table border=\"1\" class=\"dataframe\">\n",
       "  <thead>\n",
       "    <tr style=\"text-align: right;\">\n",
       "      <th></th>\n",
       "      <th>temperature</th>\n",
       "      <th>gender</th>\n",
       "      <th>heart_rate</th>\n",
       "    </tr>\n",
       "  </thead>\n",
       "  <tbody>\n",
       "    <tr>\n",
       "      <th>0</th>\n",
       "      <td>99.3</td>\n",
       "      <td>F</td>\n",
       "      <td>68.0</td>\n",
       "    </tr>\n",
       "    <tr>\n",
       "      <th>1</th>\n",
       "      <td>98.4</td>\n",
       "      <td>F</td>\n",
       "      <td>81.0</td>\n",
       "    </tr>\n",
       "    <tr>\n",
       "      <th>2</th>\n",
       "      <td>97.8</td>\n",
       "      <td>M</td>\n",
       "      <td>73.0</td>\n",
       "    </tr>\n",
       "    <tr>\n",
       "      <th>3</th>\n",
       "      <td>99.2</td>\n",
       "      <td>F</td>\n",
       "      <td>66.0</td>\n",
       "    </tr>\n",
       "    <tr>\n",
       "      <th>4</th>\n",
       "      <td>98.0</td>\n",
       "      <td>F</td>\n",
       "      <td>73.0</td>\n",
       "    </tr>\n",
       "    <tr>\n",
       "      <th>5</th>\n",
       "      <td>99.2</td>\n",
       "      <td>M</td>\n",
       "      <td>83.0</td>\n",
       "    </tr>\n",
       "    <tr>\n",
       "      <th>6</th>\n",
       "      <td>98.0</td>\n",
       "      <td>M</td>\n",
       "      <td>71.0</td>\n",
       "    </tr>\n",
       "    <tr>\n",
       "      <th>7</th>\n",
       "      <td>98.8</td>\n",
       "      <td>M</td>\n",
       "      <td>78.0</td>\n",
       "    </tr>\n",
       "    <tr>\n",
       "      <th>8</th>\n",
       "      <td>98.4</td>\n",
       "      <td>F</td>\n",
       "      <td>84.0</td>\n",
       "    </tr>\n",
       "    <tr>\n",
       "      <th>9</th>\n",
       "      <td>98.6</td>\n",
       "      <td>F</td>\n",
       "      <td>86.0</td>\n",
       "    </tr>\n",
       "  </tbody>\n",
       "</table>\n",
       "</div>"
      ],
      "text/plain": [
       "   temperature gender  heart_rate\n",
       "0         99.3      F        68.0\n",
       "1         98.4      F        81.0\n",
       "2         97.8      M        73.0\n",
       "3         99.2      F        66.0\n",
       "4         98.0      F        73.0\n",
       "5         99.2      M        83.0\n",
       "6         98.0      M        71.0\n",
       "7         98.8      M        78.0\n",
       "8         98.4      F        84.0\n",
       "9         98.6      F        86.0"
      ]
     },
     "execution_count": 17,
     "metadata": {},
     "output_type": "execute_result"
    }
   ],
   "source": [
    "df.head(10)"
   ]
  },
  {
   "cell_type": "markdown",
   "metadata": {},
   "source": [
    "The sample size (130) is large since it is larger than 30.  The observations seem to be independent as the temperature and heart rate of one person shouldn't affect those of another person. "
   ]
  },
  {
   "cell_type": "markdown",
   "metadata": {},
   "source": [
    "## Question 3: Is the true population mean really 98.6 degrees F? "
   ]
  },
  {
   "cell_type": "markdown",
   "metadata": {},
   "source": [
    "### Bootstrap Testing"
   ]
  },
  {
   "cell_type": "markdown",
   "metadata": {},
   "source": [
    "Null Hypothesis: The true mean of the observed body temperature data is equal to 98.6 deg F.   "
   ]
  },
  {
   "cell_type": "code",
   "execution_count": 18,
   "metadata": {},
   "outputs": [],
   "source": [
    "# Shifting data based on the stated mean body temperature\n",
    "stated_mean = 98.6 # what normal body temperature was thought to be \n",
    "temperature_shifted = df['temperature'] - df['temperature'].mean() + stated_mean   "
   ]
  },
  {
   "cell_type": "code",
   "execution_count": 19,
   "metadata": {},
   "outputs": [
    {
     "data": {
      "image/png": "[encoded data removed]",
      "text/plain": [
       "<Figure size 432x288 with 1 Axes>"
      ]
     },
     "metadata": {},
     "output_type": "display_data"
    }
   ],
   "source": [
    "# Checking a CDF of the shifted data vs the original data\n",
    "x_orig, y_orig = ecdf(df['temperature'])\n",
    "x_new, y_new = ecdf(temperature_shifted)\n",
    "\n",
    "_ = plt.plot(x_orig, y_orig, marker = '.', linestyle = 'none')\n",
    "_ = plt.plot(x_new, y_new, marker = '.', linestyle = 'none')\n",
    "_ = plt.xlabel('Body Temperature (deg F)')\n",
    "_ = plt.ylabel('CDF')\n",
    "_ = plt.legend(('Original Data', 'Shifted Data'), loc = 'lower right')"
   ]
  },
  {
   "cell_type": "code",
   "execution_count": 20,
   "metadata": {},
   "outputs": [],
   "source": [
    "# Defining functions\n",
    "def bootstrap_replicate_1d(data, func):\n",
    "    '''draws a bootstrap replicates'''\n",
    "    return func(np.random.choice(data, size = len(data)))\n",
    "\n",
    "def draw_bs_reps(data, func, size = 1):\n",
    "    '''draws multiple bootstrap replicates'''\n",
    "    bs_replicates = np.empty(size)\n",
    "    for i in range(size):\n",
    "        bs_replicates[i] = bootstrap_replicate_1d(data, func)\n",
    "    return bs_replicates\n"
   ]
  },
  {
   "cell_type": "code",
   "execution_count": 21,
   "metadata": {},
   "outputs": [
    {
     "name": "stdout",
     "output_type": "stream",
     "text": [
      "mean temperature of original data: 98.25\n",
      "p-value: 0.0\n"
     ]
    }
   ],
   "source": [
    "# Calculating the mean observed from the original temperature data\n",
    "obs_mean = np.mean(df['temperature'])\n",
    "\n",
    "# Generating 10000 bootstrap replicates from the shifted temperature data\n",
    "bs_replicates = draw_bs_reps(temperature_shifted, np.mean, 10000)\n",
    "\n",
    "# Calculating the p value as fraction of bootstrap replicates that are less than or equal to the mean from the original data\n",
    "p_value = np.sum(bs_replicates <= obs_mean) / len(bs_replicates)\n",
    "print('mean temperature of original data: ' + str(round(obs_mean,2)) + '\\np-value: '+ str(p_value))"
   ]
  },
  {
   "cell_type": "code",
   "execution_count": 22,
   "metadata": {},
   "outputs": [
    {
     "data": {
      "image/png": "[encoded data removed]",
      "text/plain": [
       "<Figure size 432x288 with 1 Axes>"
      ]
     },
     "metadata": {},
     "output_type": "display_data"
    }
   ],
   "source": [
    "# Plotting PDF of the mean temperature of the shifted data with the mean temperature of the original data\n",
    "_ = plt.hist(bs_replicates, density = 1)\n",
    "_ = plt.axvline(x = obs_mean, color = 'r')\n",
    "_ = plt.text(98.26, 3, 'Mean Temperature of \\nOriginal Data', color = 'r')\n",
    "_ = plt.xlabel('Body Temperature (deg F)')\n",
    "_ = plt.ylabel('PDF')"
   ]
  },
  {
   "cell_type": "markdown",
   "metadata": {},
   "source": [
    "After performing 10,000 trials resampling the shifted temperature data and calculating the mean temperature, the p value was found to be 0.  This means that none of the calculated mean temperatures were equal to or less than the mean temperature of the original data (98.25 deg F).  Therefore, the null hypothesis is rejected, which means the true mean of the observed data is not equal to 98.6 deg F. "
   ]
  },
  {
   "cell_type": "markdown",
   "metadata": {},
   "source": [
    "### Frequentist Statistical Testing"
   ]
  },
  {
   "cell_type": "markdown",
   "metadata": {},
   "source": [
    "Since I only have one set of data and a single number to compare it to, I will be performing a one sample test.  In this situation, it would be appropriate to use the t-statistic because although we have a large sample (> 30), we don't know what the standard deviation of the population body temperature is. "
   ]
  },
  {
   "cell_type": "code",
   "execution_count": 23,
   "metadata": {},
   "outputs": [
    {
     "name": "stdout",
     "output_type": "stream",
     "text": [
      "t-statistic: -5.454823292364079\n",
      "p-value: 2.4106320415609943e-07\n"
     ]
    }
   ],
   "source": [
    "# Calculating t-statistic and p-value\n",
    "temp_mean = np.mean(df['temperature']) # mean temperature of the observations\n",
    "temp_std = np.std(df['temperature'], ddof = 1) # standard deviation of the observations\n",
    "\n",
    "t_stat = (temp_mean - 98.6) / (temp_std / np.sqrt(len(df)))\n",
    "p_value = stats.t.cdf(x = t_stat, df = len(df) - 1) * 2\n",
    "print('t-statistic: ' + str(t_stat) + '\\np-value: '+ str(p_value))"
   ]
  },
  {
   "cell_type": "code",
   "execution_count": 24,
   "metadata": {},
   "outputs": [
    {
     "name": "stdout",
     "output_type": "stream",
     "text": [
      "t-statistic: -5.4548232923645195\n",
      "p-value: 2.4106320415561276e-07\n"
     ]
    }
   ],
   "source": [
    "# Checking the t-statistic and p-value with ttest_1samp\n",
    "t_stat, p_value = stats.ttest_1samp(df['temperature'], 98.6)\n",
    "print('t-statistic: ' + str(t_stat) + '\\np-value: '+ str(p_value))"
   ]
  },
  {
   "cell_type": "markdown",
   "metadata": {},
   "source": [
    "The large negative value for the t statistic indicates that there is quite a bit of difference between the observed body temperature data and the stated body temperature of 98.6 deg F.  The extremely small p-value means that the true mean of the observed body temperature is not equal to 98.6 deg F. "
   ]
  },
  {
   "cell_type": "code",
   "execution_count": 25,
   "metadata": {},
   "outputs": [
    {
     "name": "stdout",
     "output_type": "stream",
     "text": [
      "z-statistic: -5.454823292364079\n",
      "p-value: 4.90215701411338e-08\n"
     ]
    }
   ],
   "source": [
    "# Calculating the z-statistic and p-value\n",
    "z_stat = (temp_mean - 98.6) / (temp_std / np.sqrt(len(df)))\n",
    "p_value = stats.norm.cdf(z_stat) * 2\n",
    "print('z-statistic: ' + str(z_stat) + '\\np-value: '+ str(p_value))"
   ]
  },
  {
   "cell_type": "code",
   "execution_count": 26,
   "metadata": {},
   "outputs": [
    {
     "name": "stdout",
     "output_type": "stream",
     "text": [
      "z-statistic: -5.4548232923645195\n",
      "p-value: 4.9021570141012155e-08\n"
     ]
    }
   ],
   "source": [
    "# Checking the z-statistic and p-value with ztest\n",
    "z_stat, p_value = ztest(x1 = df['temperature'], value = 98.6)\n",
    "print('z-statistic: ' + str(z_stat) + '\\np-value: '+ str(p_value))"
   ]
  },
  {
   "cell_type": "markdown",
   "metadata": {},
   "source": [
    "According to the Central Limit Theorem, if the sample size is large (>30), then the standard deviation of the sample data (observed temperatures) can be used to approximate the z-statistic. Therefore the approximation for the z-statistic is the same as the t-statistic in this case. The p-value is different for the t-statistic and z-statistic as it is generated by two different distributions.  The p-value is, however very small (<0.05) in both cases, thus leading me to reject the null hypothesis that the true mean of the observed body temperature is equal to 98.6 deg F. "
   ]
  },
  {
   "cell_type": "markdown",
   "metadata": {},
   "source": [
    "## Question 4:  Draw a small sample of size 10 from the data and repeat both frequentist tests."
   ]
  },
  {
   "cell_type": "code",
   "execution_count": 27,
   "metadata": {},
   "outputs": [
    {
     "data": {
      "text/plain": [
       "array([97.8, 98.6, 97.1, 98.1, 97.3, 98.7, 98.2, 98.4, 99.3, 97.1])"
      ]
     },
     "execution_count": 27,
     "metadata": {},
     "output_type": "execute_result"
    }
   ],
   "source": [
    "# Drawing a random sample with size 10 from the temperature data \n",
    "temp_sample = np.random.choice(df['temperature'], size = 10)\n",
    "temp_sample"
   ]
  },
  {
   "cell_type": "code",
   "execution_count": 28,
   "metadata": {},
   "outputs": [
    {
     "name": "stdout",
     "output_type": "stream",
     "text": [
      "t-statistic: -2.3228343054393985\n",
      "p-value: 0.045275230835070346\n"
     ]
    }
   ],
   "source": [
    "# Calculating the t-statistic and p-value \n",
    "t_stat, p_value = stats.ttest_1samp(temp_sample, 98.6)\n",
    "print('t-statistic: ' + str(t_stat) + '\\np-value: '+ str(p_value))"
   ]
  },
  {
   "cell_type": "code",
   "execution_count": 29,
   "metadata": {},
   "outputs": [
    {
     "name": "stdout",
     "output_type": "stream",
     "text": [
      "z-statistic: -2.3228343054393985\n",
      "p-value: 0.020188055388823893\n"
     ]
    }
   ],
   "source": [
    "# Calculating the z-statistic and p-value\n",
    "z_stat, p_value = ztest(x1 = temp_sample, value = 98.6)\n",
    "print('z-statistic: ' + str(z_stat) + '\\np-value: '+ str(p_value))"
   ]
  },
  {
   "cell_type": "markdown",
   "metadata": {},
   "source": [
    "The t-statistic and the z-statistic are both the same while their p-values differ more than in the previous section when the whole dataset was used.  After running these tests on numerous random samples, the p-values vary greatly since the sample size is so small. In most cases the p-values are relatively large(>0.05) and would lead me to fail to reject my null hypothesis that the true mean of the observed body temperature data is equal to 98.6 deg.  But in general, if we have a small sample (n<30) and we don't know the population standard deviation, we should use the t-statistic.  If we have a large sample (n>30) then we may be able to use the z-statistic. "
   ]
  },
  {
   "cell_type": "markdown",
   "metadata": {},
   "source": [
    "## Question 5:  At what temperature should we consider someone's temperature to be \"abnormal\"?"
   ]
  },
  {
   "cell_type": "markdown",
   "metadata": {},
   "source": [
    "### Bootstrap Approach"
   ]
  },
  {
   "cell_type": "code",
   "execution_count": 30,
   "metadata": {},
   "outputs": [],
   "source": [
    "# Drawing 10000 random temperature observations\n",
    "temp_sample = np.random.choice(df['temperature'], 10000, replace = True)"
   ]
  },
  {
   "cell_type": "code",
   "execution_count": 31,
   "metadata": {},
   "outputs": [
    {
     "name": "stdout",
     "output_type": "stream",
     "text": [
      "The 95% confidence interval is from 96.7 deg F to 99.5 deg F\n"
     ]
    }
   ],
   "source": [
    "# Getting the 95% confidence interval\n",
    "conf_lower, conf_upper = np.percentile(temp_sample, [2.5, 97.5])\n",
    "print('The 95% confidence interval is from ' + str(conf_lower) + ' deg F to ' + str(conf_upper) + ' deg F')"
   ]
  },
  {
   "cell_type": "markdown",
   "metadata": {},
   "source": [
    "According to this method, a person that has a temperature less than 96.7 deg F or greater than 99.5 deg F would be considered abnormal. "
   ]
  },
  {
   "cell_type": "code",
   "execution_count": 32,
   "metadata": {},
   "outputs": [
    {
     "data": {
      "image/png": "[encoded data removed]",
      "text/plain": [
       "<Figure size 432x288 with 1 Axes>"
      ]
     },
     "metadata": {},
     "output_type": "display_data"
    }
   ],
   "source": [
    "# Plotting histogram and 95 confidence interval\n",
    "_ = plt.hist(df['temperature'], density = False)\n",
    "_ = plt.xlabel('Body Temperature (deg F)')\n",
    "_ = plt.ylabel('Frequency')\n",
    "_ = plt.axvline(x = conf_lower, color = 'r')\n",
    "_ = plt.axvline(x = conf_upper, color = 'r')\n",
    "_ = plt.text(96.67, 15.5, '<- 95% Confidence Interval ->', color = 'r', fontsize = 11.4, weight = 'bold')"
   ]
  },
  {
   "cell_type": "markdown",
   "metadata": {},
   "source": [
    "### Frequentist Approach"
   ]
  },
  {
   "cell_type": "code",
   "execution_count": 33,
   "metadata": {},
   "outputs": [],
   "source": [
    "temp_mean = np.mean(df['temperature']) # mean temperature of the observations\n",
    "temp_std = np.std(df['temperature'], ddof = 1) # standard deviation of the observations"
   ]
  },
  {
   "cell_type": "code",
   "execution_count": 34,
   "metadata": {},
   "outputs": [
    {
     "name": "stdout",
     "output_type": "stream",
     "text": [
      "The 95% confidence interval is from 96.8 deg F to 99.7 deg F\n"
     ]
    }
   ],
   "source": [
    "# Calculating the margin of error and 95% confidence interval\n",
    "marg_error = 1.96 * temp_std  # 1.96 is the critical value for 95% confidence level\n",
    "conf_lower = temp_mean - marg_error\n",
    "conf_upper = temp_mean + marg_error\n",
    "print('The 95% confidence interval is from ' + str(round(conf_lower, 1)) + ' deg F to ' + str(round(conf_upper, 1)) + ' deg F')"
   ]
  },
  {
   "cell_type": "markdown",
   "metadata": {},
   "source": [
    "According to this method, a person that has a temperature less than 96.8 deg F or greater than 99.7 deg F would be considered abnormal. "
   ]
  },
  {
   "cell_type": "code",
   "execution_count": 35,
   "metadata": {},
   "outputs": [
    {
     "data": {
      "image/png": "[encoded data removed]",
      "text/plain": [
       "<Figure size 432x288 with 1 Axes>"
      ]
     },
     "metadata": {},
     "output_type": "display_data"
    }
   ],
   "source": [
    "# Plotting histogram and 95 confidence interval\n",
    "_ = plt.hist(df['temperature'], density = False)\n",
    "_ = plt.xlabel('Body Temperature (deg F)')\n",
    "_ = plt.ylabel('Frequency')\n",
    "_ = plt.axvline(x = conf_lower, color = 'r')\n",
    "_ = plt.axvline(x = conf_upper, color = 'r')\n",
    "_ = plt.text(96.81, 15.5, '<- 95% Confidence Interval ->', color = 'r', fontsize = 11.4, weight = 'bold')"
   ]
  },
  {
   "cell_type": "markdown",
   "metadata": {},
   "source": [
    "## Question 6:  Is there a significant difference between males and females in normal temperature?"
   ]
  },
  {
   "cell_type": "markdown",
   "metadata": {},
   "source": [
    "### EDA"
   ]
  },
  {
   "cell_type": "code",
   "execution_count": 36,
   "metadata": {},
   "outputs": [
    {
     "name": "stdout",
     "output_type": "stream",
     "text": [
      "There are 65 observations for females and 65 observations for males.\n"
     ]
    }
   ],
   "source": [
    "female = len(df[df['gender'] == 'F'])\n",
    "male = len(df[df['gender'] == 'M'])\n",
    "print('There are ' + str(female) + ' observations for females and ' + str(male) + ' observations for males.')"
   ]
  },
  {
   "cell_type": "code",
   "execution_count": 37,
   "metadata": {},
   "outputs": [
    {
     "data": {
      "image/png": "[encoded data removed]",
      "text/plain": [
       "<Figure size 432x288 with 1 Axes>"
      ]
     },
     "metadata": {},
     "output_type": "display_data"
    }
   ],
   "source": [
    "_ = sns.swarmplot(x = 'gender', y = 'temperature', data = df)\n",
    "_ = plt.xlabel('Gender')\n",
    "_ = plt.ylabel('Temperature (deg F)')"
   ]
  },
  {
   "cell_type": "code",
   "execution_count": 38,
   "metadata": {},
   "outputs": [
    {
     "data": {
      "image/png": "[encoded data removed]",
      "text/plain": [
       "<Figure size 432x288 with 1 Axes>"
      ]
     },
     "metadata": {},
     "output_type": "display_data"
    }
   ],
   "source": [
    "_ = sns.boxplot(x = 'gender', y = 'temperature', data = df)\n",
    "_ = plt.xlabel('Gender')\n",
    "_ = plt.ylabel('Temperature (deg F)')"
   ]
  },
  {
   "cell_type": "code",
   "execution_count": 39,
   "metadata": {},
   "outputs": [
    {
     "data": {
      "text/plain": [
       "Text(0.5,1,'Males')"
      ]
     },
     "execution_count": 39,
     "metadata": {},
     "output_type": "execute_result"
    },
    {
     "data": {
      "image/png": "[encoded data removed]",
      "text/plain": [
       "<Figure size 432x288 with 2 Axes>"
      ]
     },
     "metadata": {},
     "output_type": "display_data"
    }
   ],
   "source": [
    "ax1, ax2 = df.hist(column = 'temperature', by = 'gender')\n",
    "ax1.set_ylabel('Temperature (deg F)')\n",
    "ax2.set_ylabel('Temperature (deg F)')\n",
    "ax1.set_title('Females')\n",
    "ax2.set_title('Males')"
   ]
  },
  {
   "cell_type": "code",
   "execution_count": 40,
   "metadata": {},
   "outputs": [],
   "source": [
    "# Calculating CDFs for females and males\n",
    "f_mask = df['gender'] == 'F'  # creating mask for only females\n",
    "f_temp = df['temperature'][f_mask] # getting only female temperatures\n",
    "m_mask = df['gender'] == 'M'  # creating mask for only males\n",
    "m_temp = df['temperature'][m_mask] # getting only male temperatures\n",
    "\n",
    "x_f, y_f = ecdf(f_temp) \n",
    "x_m, y_m = ecdf(m_temp)"
   ]
  },
  {
   "cell_type": "code",
   "execution_count": 41,
   "metadata": {},
   "outputs": [
    {
     "data": {
      "image/png": "[encoded data removed]",
      "text/plain": [
       "<Figure size 432x288 with 1 Axes>"
      ]
     },
     "metadata": {},
     "output_type": "display_data"
    }
   ],
   "source": [
    "# Plotting the CDFs for females and males\n",
    "_ = plt.plot(x_f, y_f, marker = '.', linestyle = 'none')\n",
    "_ = plt.plot(x_m, y_m, marker = '.', linestyle = 'none')\n",
    "_ = plt.xlabel('Body Temperature (deg F)')\n",
    "_ = plt.ylabel('CDF')\n",
    "_ = plt.legend(('Female', 'Male'), loc = 'lower right')"
   ]
  },
  {
   "cell_type": "markdown",
   "metadata": {},
   "source": [
    "There are an equal number of body temperature observations (65) for males and females. In general, body temperature varies more in females and females have a higher mean body temperature. "
   ]
  },
  {
   "cell_type": "markdown",
   "metadata": {},
   "source": [
    "### Testing"
   ]
  },
  {
   "cell_type": "markdown",
   "metadata": {},
   "source": [
    "As I have two sets of data, I will perform a hypothesis test using permutation.  My test function will be the difference in mean body temperature (female minus male). \n",
    "\n",
    "Null Hypothesis:  There is no significant difference in normal temperature between males and females."
   ]
  },
  {
   "cell_type": "code",
   "execution_count": 42,
   "metadata": {},
   "outputs": [],
   "source": [
    "# Defining functions\n",
    "\n",
    "def mean_diff(data1, data2): \n",
    "    \"\"\"calculates the differences in the means of two data sets\"\"\"\n",
    "    return np.mean(data1) - np.mean(data2)\n",
    "\n",
    "def permutation_sample(data1, data2):\n",
    "    \"\"\"generates a permutation sample from two data sets\"\"\"\n",
    "    data = np.concatenate((data1, data2))\n",
    "    permuted_data = np.random.permutation(data)\n",
    "    perm_sample1 = permuted_data[:len(data1)]\n",
    "    perm_sample2 = permuted_data[len(data1):]\n",
    "    return perm_sample1, perm_sample2\n",
    "\n",
    "def draw_perm_reps(data1, data2, func, size = 1): \n",
    "    \"\"\"generates multiple permutation replicates\"\"\"\n",
    "    perm_replicates = np.empty(size)\n",
    "    for i in range(size):\n",
    "        perm_sample1, perm_sample2 = permutation_sample(data1, data2)\n",
    "        perm_replicates[i] = func(perm_sample1, perm_sample2)\n",
    "    return perm_replicates"
   ]
  },
  {
   "cell_type": "code",
   "execution_count": 43,
   "metadata": {},
   "outputs": [],
   "source": [
    "# Splitting up data\n",
    "f_mask = df['gender'] == 'F'  # creating mask for only females\n",
    "f_temp = np.array(df['temperature'][f_mask]) # getting only female temperatures\n",
    "m_mask = df['gender'] == 'M'  # creating mask for only males\n",
    "m_temp = np.array(df['temperature'][m_mask]) # getting only male temperatures\n",
    "\n",
    "# Calculating the difference in mean temp between females and males\n",
    "obs_diff = np.mean(f_temp) - np.mean(m_temp) \n",
    "\n",
    "# Generating 10000 permutation replicates of the difference in mean temperature\n",
    "perm_replicates = draw_perm_reps(f_temp, m_temp, mean_diff, 10000)"
   ]
  },
  {
   "cell_type": "code",
   "execution_count": 44,
   "metadata": {},
   "outputs": [
    {
     "name": "stdout",
     "output_type": "stream",
     "text": [
      "difference in mean temperature of original data (female minus male): 0.29\n",
      "p-value: 0.0109\n"
     ]
    }
   ],
   "source": [
    "# Calculating the p value as fraction of permutation replicates that are more than or equal to the difference in mean from the observed data\n",
    "p_value = np.sum(perm_replicates >= obs_diff) / len(perm_replicates)\n",
    "print('difference in mean temperature of original data (female minus male): ' + str(round(obs_diff, 2)) + '\\np-value: '+ str(p_value))"
   ]
  },
  {
   "cell_type": "code",
   "execution_count": 45,
   "metadata": {},
   "outputs": [
    {
     "data": {
      "image/png": "[encoded data removed]",
      "text/plain": [
       "<Figure size 432x288 with 1 Axes>"
      ]
     },
     "metadata": {},
     "output_type": "display_data"
    }
   ],
   "source": [
    "# Plotting PDF of the difference in mean temperature from the permuted data with the difference in mean temperature from the observed data\n",
    "_ = plt.hist(perm_replicates, density = 1)\n",
    "_ = plt.axvline(x = obs_diff, color = 'r')\n",
    "_ = plt.text(0.3, 1.5, 'Difference in Mean Temperature \\nof Original Data (0.29 deg F)', color = 'r')\n",
    "_ = plt.xlabel('Difference in Mean Body Temperature (deg F)')\n",
    "_ = plt.ylabel('PDF')"
   ]
  },
  {
   "cell_type": "markdown",
   "metadata": {},
   "source": [
    "The p value was found to be 0.0134 which is small (<0.05).  This means that there were very few calculated differences in mean temperature (female minus male) that were equal to or greater than the difference in mean temperature of the original data (0.29 deg F).  Therefore, the null hypothesis is rejected, which means that there could be a significant difference in normal temperature between males and females.  "
   ]
  },
  {
   "cell_type": "markdown",
   "metadata": {},
   "source": [
    "### Additional Tests"
   ]
  },
  {
   "cell_type": "markdown",
   "metadata": {},
   "source": [
    "I will also perform a two sample t test and z test. "
   ]
  },
  {
   "cell_type": "code",
   "execution_count": null,
   "metadata": {},
   "outputs": [],
   "source": [
    "# Calculating the t-statistic and p-value \n",
    "t_stat, p_value = stats.ttest_ind(f_temp, m_temp)\n",
    "print('t-statistic: ' + str(t_stat) + '\\np-value: '+ str(p_value))"
   ]
  },
  {
   "cell_type": "code",
   "execution_count": 47,
   "metadata": {},
   "outputs": [
    {
     "name": "stdout",
     "output_type": "stream",
     "text": [
      "z-statistic: 2.2854345381656103\n",
      "p-value: 0.02228736076065755\n"
     ]
    }
   ],
   "source": [
    "# Calculating the z-statistic and p-value\n",
    "z_stat, p_value = ztest(x1 = f_temp, x2 = m_temp)\n",
    "print('z-statistic: ' + str(z_stat) + '\\np-value: '+ str(p_value))"
   ]
  },
  {
   "cell_type": "markdown",
   "metadata": {},
   "source": [
    "Both the t-statistic and z-statistic are generally large, indicating that there is a difference in male and female body temperature.  The p-values for both of these tests are small (<0.05) so I would reject the null hypothesis that there is no significant difference in body temperature between males and females. "
   ]
  },
  {
   "cell_type": "markdown",
   "metadata": {},
   "source": [
    "### At what temperature should we consider someone's temperature to be \"abnormal\"?\n",
    "As in the previous example, try calculating everything using the boostrap approach, as well as the frequentist approach.\n",
    "Start by computing the margin of error and confidence interval. When calculating the confidence interval, keep in mind that you should use the appropriate formula for one draw, and not N draws."
   ]
  },
  {
   "cell_type": "code",
   "execution_count": 64,
   "metadata": {},
   "outputs": [
    {
     "data": {
      "text/html": [
       "<div>\n",
       "<style scoped>\n",
       "    .dataframe tbody tr th:only-of-type {\n",
       "        vertical-align: middle;\n",
       "    }\n",
       "\n",
       "    .dataframe tbody tr th {\n",
       "        vertical-align: top;\n",
       "    }\n",
       "\n",
       "    .dataframe thead th {\n",
       "        text-align: right;\n",
       "    }\n",
       "</style>\n",
       "<table border=\"1\" class=\"dataframe\">\n",
       "  <thead>\n",
       "    <tr style=\"text-align: right;\">\n",
       "      <th></th>\n",
       "      <th>temperature</th>\n",
       "      <th>gender</th>\n",
       "      <th>heart_rate</th>\n",
       "    </tr>\n",
       "  </thead>\n",
       "  <tbody>\n",
       "    <tr>\n",
       "      <th>0</th>\n",
       "      <td>99.3</td>\n",
       "      <td>F</td>\n",
       "      <td>68.0</td>\n",
       "    </tr>\n",
       "    <tr>\n",
       "      <th>1</th>\n",
       "      <td>98.4</td>\n",
       "      <td>F</td>\n",
       "      <td>81.0</td>\n",
       "    </tr>\n",
       "    <tr>\n",
       "      <th>2</th>\n",
       "      <td>97.8</td>\n",
       "      <td>M</td>\n",
       "      <td>73.0</td>\n",
       "    </tr>\n",
       "    <tr>\n",
       "      <th>3</th>\n",
       "      <td>99.2</td>\n",
       "      <td>F</td>\n",
       "      <td>66.0</td>\n",
       "    </tr>\n",
       "    <tr>\n",
       "      <th>4</th>\n",
       "      <td>98.0</td>\n",
       "      <td>F</td>\n",
       "      <td>73.0</td>\n",
       "    </tr>\n",
       "  </tbody>\n",
       "</table>\n",
       "</div>"
      ],
      "text/plain": [
       "   temperature gender  heart_rate\n",
       "0         99.3      F        68.0\n",
       "1         98.4      F        81.0\n",
       "2         97.8      M        73.0\n",
       "3         99.2      F        66.0\n",
       "4         98.0      F        73.0"
      ]
     },
     "execution_count": 64,
     "metadata": {},
     "output_type": "execute_result"
    }
   ],
   "source": [
    "df.head()"
   ]
  },
  {
   "cell_type": "markdown",
   "metadata": {},
   "source": [
    "### Bootstrap Approach"
   ]
  },
  {
   "cell_type": "code",
   "execution_count": 48,
   "metadata": {},
   "outputs": [],
   "source": [
    "# Drawing 10000 random temperature observations\n",
    "temp_sample = np.random.choice(df['temperature'], 10000, replace = True)"
   ]
  },
  {
   "cell_type": "code",
   "execution_count": 49,
   "metadata": {},
   "outputs": [
    {
     "name": "stdout",
     "output_type": "stream",
     "text": [
      "The 95% confidence interval is from 96.7 deg F to 99.5 deg F\n"
     ]
    }
   ],
   "source": [
    "# Getting the 95% confidence interval\n",
    "conf_lower, conf_upper = np.percentile(temp_sample, [2.5, 97.5])\n",
    "print('The 95% confidence interval is from ' + str(conf_lower) + ' deg F to ' + str(conf_upper) + ' deg F')"
   ]
  },
  {
   "cell_type": "code",
   "execution_count": 50,
   "metadata": {},
   "outputs": [
    {
     "data": {
      "image/png": "[encoded data removed]",
      "text/plain": [
       "<Figure size 432x288 with 1 Axes>"
      ]
     },
     "metadata": {},
     "output_type": "display_data"
    }
   ],
   "source": [
    "# Plotting histogram and 95 confidence interval\n",
    "_ = plt.hist(df['temperature'], density = False)\n",
    "_ = plt.xlabel('Body Temperature (deg F)')\n",
    "_ = plt.ylabel('Frequency')\n",
    "_ = plt.axvline(x = conf_lower, color = 'r')\n",
    "_ = plt.axvline(x = conf_upper, color = 'r')\n",
    "_ = plt.text(96.67, 15.5, '<- 95% Confidence Interval ->', color = 'r', fontsize = 11.4, weight = 'bold')"
   ]
  },
  {
   "cell_type": "code",
   "execution_count": null,
   "metadata": {},
   "outputs": [],
   "source": []
  },
  {
   "cell_type": "markdown",
   "metadata": {},
   "source": [
    "### Frequentist Approach"
   ]
  },
  {
   "cell_type": "code",
   "execution_count": 51,
   "metadata": {},
   "outputs": [],
   "source": [
    "temp_mean = np.mean(df['temperature']) # mean temperature of the observations\n",
    "temp_std = np.std(df['temperature'], ddof = 1) # standard deviation of the observations"
   ]
  },
  {
   "cell_type": "code",
   "execution_count": 52,
   "metadata": {},
   "outputs": [
    {
     "name": "stdout",
     "output_type": "stream",
     "text": [
      "The 95% confidence interval is from 96.8 deg F to 99.7 deg F\n"
     ]
    }
   ],
   "source": [
    "# Calculating the margin of error and 95% confidence interval\n",
    "marg_error = 1.96 * temp_std  # 1.96 is the critical value for 95% confidence level\n",
    "conf_lower = temp_mean - marg_error\n",
    "conf_upper = temp_mean + marg_error\n",
    "print('The 95% confidence interval is from ' + str(round(conf_lower, 1)) + ' deg F to ' + str(round(conf_upper, 1)) + ' deg F')"
   ]
  },
  {
   "cell_type": "code",
   "execution_count": 53,
   "metadata": {},
   "outputs": [
    {
     "data": {
      "image/png": "[encoded data removed]",
      "text/plain": [
       "<Figure size 432x288 with 1 Axes>"
      ]
     },
     "metadata": {},
     "output_type": "display_data"
    }
   ],
   "source": [
    "# Plotting histogram and 95 confidence interval\n",
    "_ = plt.hist(df['temperature'], density = False)\n",
    "_ = plt.xlabel('Body Temperature (deg F)')\n",
    "_ = plt.ylabel('Frequency')\n",
    "_ = plt.axvline(x = conf_lower, color = 'r')\n",
    "_ = plt.axvline(x = conf_upper, color = 'r')\n",
    "_ = plt.text(96.81, 15.5, '<- 95% Confidence Interval ->', color = 'r', fontsize = 11.4, weight = 'bold')"
   ]
  },
  {
   "cell_type": "markdown",
   "metadata": {},
   "source": [
    "### Bootstrap Approach 2"
   ]
  },
  {
   "cell_type": "code",
   "execution_count": 54,
   "metadata": {},
   "outputs": [],
   "source": [
    "# Defining functions\n",
    "def bootstrap_replicate_1d(data, func):\n",
    "    '''draws a bootstrap replicates'''\n",
    "    return func(np.random.choice(data, size = len(data)))\n",
    "\n",
    "def draw_bs_reps(data, func, size = 1):\n",
    "    '''draws multiple bootstrap replicates'''\n",
    "    bs_replicates = np.empty(size)\n",
    "    for i in range(size):\n",
    "        bs_replicates[i] = bootstrap_replicate_1d(data, func)\n",
    "    return bs_replicates"
   ]
  },
  {
   "cell_type": "code",
   "execution_count": 55,
   "metadata": {},
   "outputs": [],
   "source": [
    "# Drawing 10,000 samples and calculating the mean of each sample\n",
    "bs_replicates = draw_bs_reps(df['temperature'], np.mean, size = 10000)"
   ]
  },
  {
   "cell_type": "code",
   "execution_count": 57,
   "metadata": {},
   "outputs": [
    {
     "name": "stdout",
     "output_type": "stream",
     "text": [
      "The 95% confidence interval is from 98.1 deg F to 98.4 deg F\n"
     ]
    }
   ],
   "source": [
    "# Getting the 95% confidence interval\n",
    "conf_lower, conf_upper = np.percentile(bs_replicates, [2.5, 97.5])\n",
    "print('The 95% confidence interval is from ' + str(round(conf_lower, 1)) + ' deg F to ' + str(round(conf_upper, 1)) + ' deg F')"
   ]
  },
  {
   "cell_type": "code",
   "execution_count": 59,
   "metadata": {},
   "outputs": [
    {
     "data": {
      "image/png": "[encoded data removed]",
      "text/plain": [
       "<Figure size 432x288 with 1 Axes>"
      ]
     },
     "metadata": {},
     "output_type": "display_data"
    }
   ],
   "source": [
    "# Plotting histogram and 95 confidence interval\n",
    "_ = plt.hist(df['temperature'], density = False)\n",
    "_ = plt.xlabel('Body Temperature (deg F)')\n",
    "_ = plt.ylabel('Frequency')\n",
    "_ = plt.axvline(x = conf_lower, color = 'r')\n",
    "_ = plt.axvline(x = conf_upper, color = 'r')\n",
    "#_ = plt.text(96.67, 15.5, '<- 95% Confidence Interval ->', color = 'r', fontsize = 11.4, weight = 'bold')"
   ]
  },
  {
   "cell_type": "markdown",
   "metadata": {},
   "source": [
    "### Frequentist Approach 2"
   ]
  },
  {
   "cell_type": "code",
   "execution_count": 60,
   "metadata": {},
   "outputs": [],
   "source": [
    "temp_mean = np.mean(df['temperature']) # mean temperature of the observations\n",
    "temp_std = np.std(df['temperature'], ddof = 1) # standard deviation of the observations"
   ]
  },
  {
   "cell_type": "code",
   "execution_count": 63,
   "metadata": {},
   "outputs": [
    {
     "name": "stdout",
     "output_type": "stream",
     "text": [
      "The 95% confidence interval is from 98.1 deg F to 98.4 deg F\n"
     ]
    }
   ],
   "source": [
    "# Calculating the margin of error and 95% confidence interval\n",
    "marg_error = 1.96 * temp_std / np.sqrt(len(df))  # 1.96 is the critical value for 95% confidence level\n",
    "conf_lower = temp_mean - marg_error\n",
    "conf_upper = temp_mean + marg_error\n",
    "print('The 95% confidence interval is from ' + str(round(conf_lower, 1)) + ' deg F to ' + str(round(conf_upper, 1)) + ' deg F')"
   ]
  },
  {
   "cell_type": "markdown",
   "metadata": {},
   "source": [
    "Formula for margin of error: Z * std dev / sqr(number of samples)"
   ]
  },
  {
   "cell_type": "code",
   "execution_count": null,
   "metadata": {},
   "outputs": [],
   "source": []
  }
 ],
 "metadata": {
  "kernelspec": {
   "display_name": "Python 3",
   "language": "python",
   "name": "python3"
  },
  "language_info": {
   "codemirror_mode": {
    "name": "ipython",
    "version": 3
   },
   "file_extension": ".py",
   "mimetype": "text/x-python",
   "name": "python",
   "nbconvert_exporter": "python",
   "pygments_lexer": "ipython3",
   "version": "3.6.5"
  }
 },
 "nbformat": 4,
 "nbformat_minor": 2
}
