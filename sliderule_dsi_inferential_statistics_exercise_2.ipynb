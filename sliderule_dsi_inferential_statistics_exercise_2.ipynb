{
 "cells": [
  {
   "cell_type": "markdown",
   "metadata": {},
   "source": [
    "# Examining Racial Discrimination in the US Job Market\n",
    "\n",
    "### Background\n",
    "Racial discrimination continues to be pervasive in cultures throughout the world. Researchers examined the level of racial discrimination in the United States labor market by randomly assigning identical résumés to black-sounding or white-sounding names and observing the impact on requests for interviews from employers.\n",
    "\n",
    "### Data\n",
    "In the dataset provided, each row represents a resume. The 'race' column has two values, 'b' and 'w', indicating black-sounding and white-sounding. The column 'call' has two values, 1 and 0, indicating whether the resume received a call from employers or not.\n",
    "\n",
    "Note that the 'b' and 'w' values in race are assigned randomly to the resumes when presented to the employer."
   ]
  },
  {
   "cell_type": "markdown",
   "metadata": {},
   "source": [
    "### Exercises\n",
    "You will perform a statistical analysis to establish whether race has a significant impact on the rate of callbacks for resumes.\n",
    "\n",
    "Answer the following questions **in this notebook below and submit to your Github account**. \n",
    "\n",
    "   1. What test is appropriate for this problem? Does CLT apply?\n",
    "   2. What are the null and alternate hypotheses?\n",
    "   3. Compute margin of error, confidence interval, and p-value. Try using both the bootstrapping and the frequentist statistical approaches.\n",
    "   4. Write a story describing the statistical significance in the context or the original problem.\n",
    "   5. Does your analysis mean that race/name is the most important factor in callback success? Why or why not? If not, how would you amend your analysis?\n",
    "\n",
    "You can include written notes in notebook cells using Markdown: \n",
    "   - In the control panel at the top, choose Cell > Cell Type > Markdown\n",
    "   - Markdown syntax: http://nestacms.com/docs/creating-content/markdown-cheat-sheet\n",
    "\n",
    "#### Resources\n",
    "+ Experiment information and data source: http://www.povertyactionlab.org/evaluation/discrimination-job-market-united-states\n",
    "+ Scipy statistical methods: http://docs.scipy.org/doc/scipy/reference/stats.html \n",
    "+ Markdown syntax: http://nestacms.com/docs/creating-content/markdown-cheat-sheet\n",
    "+ Formulas for the Bernoulli distribution: https://en.wikipedia.org/wiki/Bernoulli_distribution"
   ]
  },
  {
   "cell_type": "code",
   "execution_count": 1,
   "metadata": {
    "collapsed": true
   },
   "outputs": [],
   "source": [
    "import pandas as pd\n",
    "import numpy as np\n",
    "from scipy import stats\n",
    "from statsmodels.stats.proportion import proportions_ztest\n",
    "import seaborn as sns\n",
    "import matplotlib.pyplot as plt"
   ]
  },
  {
   "cell_type": "code",
   "execution_count": 2,
   "metadata": {
    "collapsed": true
   },
   "outputs": [],
   "source": [
    "data = pd.io.stata.read_stata('data/us_job_market_discrimination.dta')"
   ]
  },
  {
   "cell_type": "code",
   "execution_count": 3,
   "metadata": {},
   "outputs": [
    {
     "data": {
      "text/plain": [
       "157.0"
      ]
     },
     "execution_count": 3,
     "metadata": {},
     "output_type": "execute_result"
    }
   ],
   "source": [
    "# number of callbacks for black-sounding names\n",
    "sum(data[data.race=='b'].call)"
   ]
  },
  {
   "cell_type": "code",
   "execution_count": 4,
   "metadata": {},
   "outputs": [
    {
     "data": {
      "text/html": [
       "<div>\n",
       "<style scoped>\n",
       "    .dataframe tbody tr th:only-of-type {\n",
       "        vertical-align: middle;\n",
       "    }\n",
       "\n",
       "    .dataframe tbody tr th {\n",
       "        vertical-align: top;\n",
       "    }\n",
       "\n",
       "    .dataframe thead th {\n",
       "        text-align: right;\n",
       "    }\n",
       "</style>\n",
       "<table border=\"1\" class=\"dataframe\">\n",
       "  <thead>\n",
       "    <tr style=\"text-align: right;\">\n",
       "      <th></th>\n",
       "      <th>id</th>\n",
       "      <th>ad</th>\n",
       "      <th>education</th>\n",
       "      <th>ofjobs</th>\n",
       "      <th>yearsexp</th>\n",
       "      <th>honors</th>\n",
       "      <th>volunteer</th>\n",
       "      <th>military</th>\n",
       "      <th>empholes</th>\n",
       "      <th>occupspecific</th>\n",
       "      <th>...</th>\n",
       "      <th>compreq</th>\n",
       "      <th>orgreq</th>\n",
       "      <th>manuf</th>\n",
       "      <th>transcom</th>\n",
       "      <th>bankreal</th>\n",
       "      <th>trade</th>\n",
       "      <th>busservice</th>\n",
       "      <th>othservice</th>\n",
       "      <th>missind</th>\n",
       "      <th>ownership</th>\n",
       "    </tr>\n",
       "  </thead>\n",
       "  <tbody>\n",
       "    <tr>\n",
       "      <th>0</th>\n",
       "      <td>b</td>\n",
       "      <td>1</td>\n",
       "      <td>4</td>\n",
       "      <td>2</td>\n",
       "      <td>6</td>\n",
       "      <td>0</td>\n",
       "      <td>0</td>\n",
       "      <td>0</td>\n",
       "      <td>1</td>\n",
       "      <td>17</td>\n",
       "      <td>...</td>\n",
       "      <td>1.0</td>\n",
       "      <td>0.0</td>\n",
       "      <td>1.0</td>\n",
       "      <td>0.0</td>\n",
       "      <td>0.0</td>\n",
       "      <td>0.0</td>\n",
       "      <td>0.0</td>\n",
       "      <td>0.0</td>\n",
       "      <td>0.0</td>\n",
       "      <td></td>\n",
       "    </tr>\n",
       "    <tr>\n",
       "      <th>1</th>\n",
       "      <td>b</td>\n",
       "      <td>1</td>\n",
       "      <td>3</td>\n",
       "      <td>3</td>\n",
       "      <td>6</td>\n",
       "      <td>0</td>\n",
       "      <td>1</td>\n",
       "      <td>1</td>\n",
       "      <td>0</td>\n",
       "      <td>316</td>\n",
       "      <td>...</td>\n",
       "      <td>1.0</td>\n",
       "      <td>0.0</td>\n",
       "      <td>1.0</td>\n",
       "      <td>0.0</td>\n",
       "      <td>0.0</td>\n",
       "      <td>0.0</td>\n",
       "      <td>0.0</td>\n",
       "      <td>0.0</td>\n",
       "      <td>0.0</td>\n",
       "      <td></td>\n",
       "    </tr>\n",
       "    <tr>\n",
       "      <th>2</th>\n",
       "      <td>b</td>\n",
       "      <td>1</td>\n",
       "      <td>4</td>\n",
       "      <td>1</td>\n",
       "      <td>6</td>\n",
       "      <td>0</td>\n",
       "      <td>0</td>\n",
       "      <td>0</td>\n",
       "      <td>0</td>\n",
       "      <td>19</td>\n",
       "      <td>...</td>\n",
       "      <td>1.0</td>\n",
       "      <td>0.0</td>\n",
       "      <td>1.0</td>\n",
       "      <td>0.0</td>\n",
       "      <td>0.0</td>\n",
       "      <td>0.0</td>\n",
       "      <td>0.0</td>\n",
       "      <td>0.0</td>\n",
       "      <td>0.0</td>\n",
       "      <td></td>\n",
       "    </tr>\n",
       "    <tr>\n",
       "      <th>3</th>\n",
       "      <td>b</td>\n",
       "      <td>1</td>\n",
       "      <td>3</td>\n",
       "      <td>4</td>\n",
       "      <td>6</td>\n",
       "      <td>0</td>\n",
       "      <td>1</td>\n",
       "      <td>0</td>\n",
       "      <td>1</td>\n",
       "      <td>313</td>\n",
       "      <td>...</td>\n",
       "      <td>1.0</td>\n",
       "      <td>0.0</td>\n",
       "      <td>1.0</td>\n",
       "      <td>0.0</td>\n",
       "      <td>0.0</td>\n",
       "      <td>0.0</td>\n",
       "      <td>0.0</td>\n",
       "      <td>0.0</td>\n",
       "      <td>0.0</td>\n",
       "      <td></td>\n",
       "    </tr>\n",
       "    <tr>\n",
       "      <th>4</th>\n",
       "      <td>b</td>\n",
       "      <td>1</td>\n",
       "      <td>3</td>\n",
       "      <td>3</td>\n",
       "      <td>22</td>\n",
       "      <td>0</td>\n",
       "      <td>0</td>\n",
       "      <td>0</td>\n",
       "      <td>0</td>\n",
       "      <td>313</td>\n",
       "      <td>...</td>\n",
       "      <td>1.0</td>\n",
       "      <td>1.0</td>\n",
       "      <td>0.0</td>\n",
       "      <td>0.0</td>\n",
       "      <td>0.0</td>\n",
       "      <td>0.0</td>\n",
       "      <td>0.0</td>\n",
       "      <td>1.0</td>\n",
       "      <td>0.0</td>\n",
       "      <td>Nonprofit</td>\n",
       "    </tr>\n",
       "  </tbody>\n",
       "</table>\n",
       "<p>5 rows × 65 columns</p>\n",
       "</div>"
      ],
      "text/plain": [
       "  id ad  education  ofjobs  yearsexp  honors  volunteer  military  empholes  \\\n",
       "0  b  1          4       2         6       0          0         0         1   \n",
       "1  b  1          3       3         6       0          1         1         0   \n",
       "2  b  1          4       1         6       0          0         0         0   \n",
       "3  b  1          3       4         6       0          1         0         1   \n",
       "4  b  1          3       3        22       0          0         0         0   \n",
       "\n",
       "   occupspecific    ...      compreq  orgreq  manuf  transcom  bankreal trade  \\\n",
       "0             17    ...          1.0     0.0    1.0       0.0       0.0   0.0   \n",
       "1            316    ...          1.0     0.0    1.0       0.0       0.0   0.0   \n",
       "2             19    ...          1.0     0.0    1.0       0.0       0.0   0.0   \n",
       "3            313    ...          1.0     0.0    1.0       0.0       0.0   0.0   \n",
       "4            313    ...          1.0     1.0    0.0       0.0       0.0   0.0   \n",
       "\n",
       "  busservice othservice  missind  ownership  \n",
       "0        0.0        0.0      0.0             \n",
       "1        0.0        0.0      0.0             \n",
       "2        0.0        0.0      0.0             \n",
       "3        0.0        0.0      0.0             \n",
       "4        0.0        1.0      0.0  Nonprofit  \n",
       "\n",
       "[5 rows x 65 columns]"
      ]
     },
     "execution_count": 4,
     "metadata": {},
     "output_type": "execute_result"
    }
   ],
   "source": [
    "data.head()"
   ]
  },
  {
   "cell_type": "code",
   "execution_count": 5,
   "metadata": {},
   "outputs": [
    {
     "data": {
      "text/plain": [
       "Index(['id', 'ad', 'education', 'ofjobs', 'yearsexp', 'honors', 'volunteer',\n",
       "       'military', 'empholes', 'occupspecific', 'occupbroad', 'workinschool',\n",
       "       'email', 'computerskills', 'specialskills', 'firstname', 'sex', 'race',\n",
       "       'h', 'l', 'call', 'city', 'kind', 'adid', 'fracblack', 'fracwhite',\n",
       "       'lmedhhinc', 'fracdropout', 'fraccolp', 'linc', 'col', 'expminreq',\n",
       "       'schoolreq', 'eoe', 'parent_sales', 'parent_emp', 'branch_sales',\n",
       "       'branch_emp', 'fed', 'fracblack_empzip', 'fracwhite_empzip',\n",
       "       'lmedhhinc_empzip', 'fracdropout_empzip', 'fraccolp_empzip',\n",
       "       'linc_empzip', 'manager', 'supervisor', 'secretary', 'offsupport',\n",
       "       'salesrep', 'retailsales', 'req', 'expreq', 'comreq', 'educreq',\n",
       "       'compreq', 'orgreq', 'manuf', 'transcom', 'bankreal', 'trade',\n",
       "       'busservice', 'othservice', 'missind', 'ownership'],\n",
       "      dtype='object')"
      ]
     },
     "execution_count": 5,
     "metadata": {},
     "output_type": "execute_result"
    }
   ],
   "source": [
    "data.columns"
   ]
  },
  {
   "cell_type": "code",
   "execution_count": 6,
   "metadata": {},
   "outputs": [
    {
     "name": "stdout",
     "output_type": "stream",
     "text": [
      "<class 'pandas.core.frame.DataFrame'>\n",
      "Int64Index: 4870 entries, 0 to 4869\n",
      "Data columns (total 65 columns):\n",
      "id                    4870 non-null object\n",
      "ad                    4870 non-null object\n",
      "education             4870 non-null int8\n",
      "ofjobs                4870 non-null int8\n",
      "yearsexp              4870 non-null int8\n",
      "honors                4870 non-null int8\n",
      "volunteer             4870 non-null int8\n",
      "military              4870 non-null int8\n",
      "empholes              4870 non-null int8\n",
      "occupspecific         4870 non-null int16\n",
      "occupbroad            4870 non-null int8\n",
      "workinschool          4870 non-null int8\n",
      "email                 4870 non-null int8\n",
      "computerskills        4870 non-null int8\n",
      "specialskills         4870 non-null int8\n",
      "firstname             4870 non-null object\n",
      "sex                   4870 non-null object\n",
      "race                  4870 non-null object\n",
      "h                     4870 non-null float32\n",
      "l                     4870 non-null float32\n",
      "call                  4870 non-null float32\n",
      "city                  4870 non-null object\n",
      "kind                  4870 non-null object\n",
      "adid                  4870 non-null float32\n",
      "fracblack             4784 non-null float32\n",
      "fracwhite             4784 non-null float32\n",
      "lmedhhinc             4784 non-null float32\n",
      "fracdropout           4784 non-null float32\n",
      "fraccolp              4784 non-null float32\n",
      "linc                  4784 non-null float32\n",
      "col                   4870 non-null float32\n",
      "expminreq             4870 non-null object\n",
      "schoolreq             4870 non-null object\n",
      "eoe                   4870 non-null float32\n",
      "parent_sales          1672 non-null float32\n",
      "parent_emp            1722 non-null float32\n",
      "branch_sales          608 non-null float32\n",
      "branch_emp            658 non-null float32\n",
      "fed                   3102 non-null float32\n",
      "fracblack_empzip      1918 non-null float32\n",
      "fracwhite_empzip      1918 non-null float32\n",
      "lmedhhinc_empzip      1908 non-null float32\n",
      "fracdropout_empzip    1918 non-null float32\n",
      "fraccolp_empzip       1918 non-null float32\n",
      "linc_empzip           1918 non-null float32\n",
      "manager               4870 non-null float32\n",
      "supervisor            4870 non-null float32\n",
      "secretary             4870 non-null float32\n",
      "offsupport            4870 non-null float32\n",
      "salesrep              4870 non-null float32\n",
      "retailsales           4870 non-null float32\n",
      "req                   4870 non-null float32\n",
      "expreq                4870 non-null float32\n",
      "comreq                4870 non-null float32\n",
      "educreq               4870 non-null float32\n",
      "compreq               4870 non-null float32\n",
      "orgreq                4870 non-null float32\n",
      "manuf                 4870 non-null float32\n",
      "transcom              4870 non-null float32\n",
      "bankreal              4870 non-null float32\n",
      "trade                 4870 non-null float32\n",
      "busservice            4870 non-null float32\n",
      "othservice            4870 non-null float32\n",
      "missind               4870 non-null float32\n",
      "ownership             4870 non-null object\n",
      "dtypes: float32(42), int16(1), int8(12), object(10)\n",
      "memory usage: 1.3+ MB\n"
     ]
    }
   ],
   "source": [
    "data.info()"
   ]
  },
  {
   "cell_type": "markdown",
   "metadata": {},
   "source": [
    "## 1. What test is appropriate for this problem? Does CLT apply?"
   ]
  },
  {
   "cell_type": "markdown",
   "metadata": {},
   "source": [
    "This is a very large dataset with 4870 samples.  As the research article states, 4 resumes were sent for each job opening.  I would assume that each applicant can be treated as independent as it would be possible for there to be multiple callbacks for the same job opening (i.e. if one applicant got a callback, the others wouldn't be automatically rejected).  Therefore, the CLT would apply.  The values I will be looking at are the proportion of white sounding applicants that had callbacks and the proportion of black sounding applicants that had callbacks.  I will compare these proportions using a two proportion z-test.  Also, hypothesis testing with permutation/bootstrap samples will be done.  "
   ]
  },
  {
   "cell_type": "markdown",
   "metadata": {},
   "source": [
    "## 2. What are the null and alternate hypotheses?"
   ]
  },
  {
   "cell_type": "markdown",
   "metadata": {},
   "source": [
    "Null Hypothesis: The proportion of callbacks for white sounding applicants is the same as that for black sounding applicants (Pw = Pb).    \n",
    "Alternate Hypothesis: The proportion of callbacks for white sounding applicants is not the same as that for black sounding applicants (Pw != Pb).  "
   ]
  },
  {
   "cell_type": "markdown",
   "metadata": {},
   "source": [
    "## 3. Compute margin of error, confidence interval, and p-value. Try using both the bootstrapping and the frequentist statistical approaches."
   ]
  },
  {
   "cell_type": "markdown",
   "metadata": {},
   "source": [
    "### Permutation Approach (p-value)"
   ]
  },
  {
   "cell_type": "code",
   "execution_count": 7,
   "metadata": {},
   "outputs": [],
   "source": [
    "# Defining functions\n",
    "def frac_callback(white, black):\n",
    "    \"\"\"computes the fraction of applicants with black sounding names that got callbacks\"\"\"\n",
    "    frac = np.sum(black) / len(black)\n",
    "    return frac\n",
    "\n",
    "def permutation_sample(data1, data2):\n",
    "    \"\"\"generates a permutation sample from 2 datasets\"\"\"\n",
    "    data = np.concatenate((data1, data2))\n",
    "    permuted_data = np.random.permutation(data)\n",
    "    perm_sample1 = permuted_data[:len(data1)]\n",
    "    perm_sample2 = permuted_data[len(data1):]\n",
    "    return perm_sample1, perm_sample2\n",
    "\n",
    "def draw_perm_reps(data1, data2, func, size=1):\n",
    "    \"\"\"generates multiple permutation replicates\"\"\"\n",
    "    perm_replicates = np.empty(size)\n",
    "    for i in range(size):\n",
    "        perm_sample1, perm_sample2 = permutation_sample(data1, data2)\n",
    "        perm_replicates[i] = func(perm_sample1, perm_sample2)\n",
    "    return perm_replicates\n",
    "    "
   ]
  },
  {
   "cell_type": "code",
   "execution_count": 8,
   "metadata": {},
   "outputs": [
    {
     "name": "stdout",
     "output_type": "stream",
     "text": [
      "There were 235 applicants that received callbacks out of 2435 applicants with white sounding names (9.65%).\n",
      "There were 157 applicants that received callbacks out of 2435 applicants with black sounding names (6.45%).\n"
     ]
    }
   ],
   "source": [
    "# Calculating how many callbacks there were for each group\n",
    "white = data[data.race=='w'] # applicants with white sounding names\n",
    "black = data[data.race=='b'] # applicants with black sounding names\n",
    "\n",
    "white_call = int(sum(data[data.race=='w'].call)) # number of applicants with white sounding names that received callbacks\n",
    "white_nocall = len(white) - white_call      # number of applicants with white sounding names that did not receive callbacks\n",
    "\n",
    "black_call = int(sum(data[data.race=='b'].call)) # number of applicants with black sounding names that received callbacks\n",
    "black_nocall = len(black) - black_call      # number of applicants with black sounding names that did not receive callbacks\n",
    "\n",
    "print('There were ' + str(white_call) + ' applicants that received callbacks out of ' + str(len(white)) + ' applicants with white sounding names (' + str(round((white_call * 100)/len(white), 2)) + '%).')\n",
    "print('There were ' + str(black_call) + ' applicants that received callbacks out of ' + str(len(black)) + ' applicants with black sounding names (' + str(round((black_call * 100)/len(black), 2)) + '%).')"
   ]
  },
  {
   "cell_type": "code",
   "execution_count": 9,
   "metadata": {},
   "outputs": [],
   "source": [
    "# Constructing arrays of data\n",
    "w = np.array([True] * white_call + [False] * white_nocall)  # array for applicants with white sounding names\n",
    "b = np.array([True] * black_call + [False] * black_nocall)  # array for applicants with black sounding names"
   ]
  },
  {
   "cell_type": "code",
   "execution_count": 10,
   "metadata": {
    "collapsed": true
   },
   "outputs": [
    {
     "name": "stdout",
     "output_type": "stream",
     "text": [
      "p-value: 0.0\n"
     ]
    }
   ],
   "source": [
    "# Getting permutation samples\n",
    "perm_replicates = draw_perm_reps(w, b, frac_callback, 10000)\n",
    "\n",
    "# Compute p-value\n",
    "p = np.sum(perm_replicates <= 157/2435) / len(perm_replicates)  # finding replicates that are less than or equal to the actual proportion of applicants with black sounding names that got callbacks\n",
    "print('p-value: ' + str(p))"
   ]
  },
  {
   "cell_type": "markdown",
   "metadata": {},
   "source": [
    "### Bootstrap Approach"
   ]
  },
  {
   "cell_type": "code",
   "execution_count": 11,
   "metadata": {},
   "outputs": [],
   "source": [
    "# Defining function\n",
    "def draw_bs_replicates(data, size=1):\n",
    "    \"\"\"draws bootstraps replicates, calculating the fraction of callbacks\"\"\"\n",
    "    inds = np.arange(len(data))\n",
    "    yes_prop = np.empty(size)\n",
    "    \n",
    "    for i in range(size):\n",
    "        bs_inds = np.random.choice(inds, size=len(inds))\n",
    "        bs_data = data.iloc[bs_inds, :]\n",
    "        bs_yes = sum(bs_data.call)\n",
    "        yes_prop[i] = (bs_yes / len(bs_data))\n",
    "        \n",
    "        #bs_white, bs_black = white.iloc[bs_inds, :], black.iloc[bs_inds, :]\n",
    "        #w_yes = sum(bs_white[bs_white.race=='w'].call)\n",
    "        #white_yes[i] = (w_yes / len(bs_white))\n",
    "        #b_yes = sum(bs_black[bs_black.race=='b'].call)\n",
    "        #black_yes[i] = (b_yes / len(bs_black))\n",
    "    \n",
    "    return yes_prop"
   ]
  },
  {
   "cell_type": "code",
   "execution_count": 12,
   "metadata": {},
   "outputs": [],
   "source": [
    "white = data[data.race=='w'] # applicants with white sounding names\n",
    "black = data[data.race=='b'] # applicants with black sounding names\n",
    "\n",
    "# Drawing bootstrap replicates and getting the fraction of callbacks \n",
    "white_yes = draw_bs_replicates(white, 10000)\n",
    "black_yes = draw_bs_replicates(black, 10000)"
   ]
  },
  {
   "cell_type": "code",
   "execution_count": 13,
   "metadata": {},
   "outputs": [
    {
     "name": "stdout",
     "output_type": "stream",
     "text": [
      "The 95% confidence interval is from 0.017 to 0.047 (difference in proportion of callbacks between white/black sounding applicants)\n"
     ]
    }
   ],
   "source": [
    "# Getting the 95% confidence interval for the difference in the fraction of callbacks\n",
    "diff = white_yes - black_yes\n",
    "conf_lower, conf_upper = np.percentile(diff, [2.5, 97.5])\n",
    "print('The 95% confidence interval is from ' + str(round(conf_lower, 3)) + ' to ' + str(round(conf_upper, 3)) + ' (difference in proportion of callbacks between white/black sounding applicants)')"
   ]
  },
  {
   "cell_type": "code",
   "execution_count": 14,
   "metadata": {},
   "outputs": [
    {
     "name": "stdout",
     "output_type": "stream",
     "text": [
      "The 95% confidence interval is from 0.085 to 0.108 (proportion of callbacks for white sounding applicants)\n"
     ]
    }
   ],
   "source": [
    "# Getting the 95% confidence interval for the fraction of callbacks for white sounding applicants\n",
    "conf_lower_w, conf_upper_w = np.percentile(white_yes, [2.5, 97.5])\n",
    "print('The 95% confidence interval is from ' + str(round(conf_lower_w, 3)) + ' to ' + str(round(conf_upper_w, 3)) + ' (proportion of callbacks for white sounding applicants)')"
   ]
  },
  {
   "cell_type": "code",
   "execution_count": 15,
   "metadata": {},
   "outputs": [
    {
     "name": "stdout",
     "output_type": "stream",
     "text": [
      "The 95% confidence interval is from 0.055 to 0.074 (proportion of callbacks for black sounding applicants)\n"
     ]
    }
   ],
   "source": [
    "# Getting the 95% confidence interval for the fraction of callbacks for black sounding applicants\n",
    "conf_lower_b, conf_upper_b = np.percentile(black_yes, [2.5, 97.5])\n",
    "print('The 95% confidence interval is from ' + str(round(conf_lower_b, 3)) + ' to ' + str(round(conf_upper_b, 3)) + ' (proportion of callbacks for black sounding applicants)')"
   ]
  },
  {
   "cell_type": "code",
   "execution_count": 16,
   "metadata": {},
   "outputs": [],
   "source": [
    "# Drawing bootstrap replicates and getting the fraction of callbacks. \n",
    "# Both white and black drawing from the full dataset with no regard to race. \n",
    "white_yes_null = draw_bs_replicates(data, 10000)\n",
    "black_yes_null = draw_bs_replicates(data, 10000)"
   ]
  },
  {
   "cell_type": "code",
   "execution_count": 17,
   "metadata": {},
   "outputs": [
    {
     "name": "stdout",
     "output_type": "stream",
     "text": [
      "p-value: 0.0\n"
     ]
    }
   ],
   "source": [
    "diff_obs = white_call / len(white) - black_call / len(black)  # difference in proportions of callbacks in observed data\n",
    "diff_null = white_yes_null - black_yes_null # difference in proportions of callbacks in null replicates data\n",
    "\n",
    "# Calculating p-value\n",
    "p_value = np.sum(diff_null >= diff_obs) / len(diff)  # finding null replicates that are more than or equal to the observed difference in proportions of callbacks\n",
    "print('p-value: ' + str(p_value))"
   ]
  },
  {
   "cell_type": "markdown",
   "metadata": {},
   "source": [
    "### Frequentist Statistical Approach "
   ]
  },
  {
   "cell_type": "code",
   "execution_count": 18,
   "metadata": {},
   "outputs": [
    {
     "name": "stdout",
     "output_type": "stream",
     "text": [
      "z-statistic: 4.108412152434346\n",
      "p-value: 3.983886837585077e-05\n"
     ]
    }
   ],
   "source": [
    "# Using the z-test to compare the proportions of callbacks to the number of white/black sounding applicants\n",
    "# The equation used is:  z = (p1 - p2) / sqrt(p(1-p) * (1/n1 + 1/n2)) where p = (Y1 + Y2) / (n1 + n2)  \n",
    "# p1 is the proportion of white sounding applicants with callbacks \n",
    "# p1 is the proportion of white sounding applicants with callbacks \n",
    "# Y1 is the number of white sounding applicants with callbacks\n",
    "# Y2 is the number of black sounding applicants with callbacks\n",
    "# n1 is the total number of white sounding applicants\n",
    "# n2 is the total number of black sounding applicants\n",
    "\n",
    "white = data[data.race=='w'] # applicants with white sounding names\n",
    "black = data[data.race=='b'] # applicants with black sounding names\n",
    "\n",
    "white_call = int(sum(data[data.race=='w'].call)) # number of applicants with white sounding names that received callbacks\n",
    "black_call = int(sum(data[data.race=='b'].call)) # number of applicants with black sounding names that received callbacks\n",
    "\n",
    "n1 = len(white)\n",
    "n2 = len(black)\n",
    "\n",
    "Y1 = white_call\n",
    "Y2 = black_call\n",
    "\n",
    "p1 = Y1 / n1 \n",
    "p2 = Y2 / n2\n",
    "\n",
    "p = (Y1 + Y2) / (n1 + n2)\n",
    "\n",
    "z_stat = (p1 - p2) / np.sqrt(p * (1-p) * (1/n1 + 1/n2))\n",
    "\n",
    "p_value = stats.norm.sf(abs(z_stat)) * 2  # two sided p-value\n",
    "print('z-statistic: ' + str(z_stat) + '\\np-value: '+ str(p_value))"
   ]
  },
  {
   "cell_type": "code",
   "execution_count": 19,
   "metadata": {},
   "outputs": [
    {
     "name": "stdout",
     "output_type": "stream",
     "text": [
      "z-statistic: 4.108412152434346\n",
      "p-value: 3.983886837585077e-05\n"
     ]
    }
   ],
   "source": [
    "# Checking the z-statistic and p-value with proportions_ztest\n",
    "z_stat, p_value = proportions_ztest(count = [white_call, black_call], nobs = [len(white), len(black)], value = 0)\n",
    "print('z-statistic: ' + str(z_stat) + '\\np-value: '+ str(p_value))"
   ]
  },
  {
   "cell_type": "code",
   "execution_count": 20,
   "metadata": {},
   "outputs": [
    {
     "name": "stdout",
     "output_type": "stream",
     "text": [
      "The 95% confidence interval is from 0.017 to 0.047 (difference in proportion of callbacks between white/black sounding applicants)\n"
     ]
    }
   ],
   "source": [
    "# Calculating the margin of error and 95% confidence interval for the difference in proportion of callbacks (white - black)\n",
    "# Standard error is: sqrt((p1*(1-p1))/n1 + (p2*(1-p2)/n2))\n",
    "# p1 is the proportion of white sounding applicants with callbacks \n",
    "# p1 is the proportion of white sounding applicants with callbacks \n",
    "# n1 is the total number of white sounding applicants\n",
    "# n2 is the total number of black sounding applicants\n",
    "\n",
    "p1 = white_call / len(white) \n",
    "p2 = black_call / len(black)\n",
    "\n",
    "n1 = len(white)\n",
    "n2 = len(black)\n",
    "\n",
    "obs_diff = p1 - p2\n",
    "\n",
    "std_error = np.sqrt((p1 * (1-p1)) / n1 + (p2 * (1-p2) / n2))\n",
    "marg_error = 1.96 * std_error  # 1.96 is the critical value for 95% confidence level\n",
    "conf_lower_z = obs_diff - marg_error\n",
    "conf_upper_z = obs_diff + marg_error\n",
    "print('The 95% confidence interval is from ' + str(round(conf_lower_z, 3)) + ' to ' + str(round(conf_upper_z, 3)) + ' (difference in proportion of callbacks between white/black sounding applicants)')"
   ]
  },
  {
   "cell_type": "markdown",
   "metadata": {},
   "source": [
    "## 4. Write a story describing the statistical significance in the context or the original problem."
   ]
  },
  {
   "cell_type": "markdown",
   "metadata": {},
   "source": [
    "|        | # Applicants |  # Callbacks | % Callback |\n",
    "| ------------- | ------------- | ------------- | \n",
    "| White Sounding  | 2435  | 235 | 9.65% |\n",
    "| Black Sounding  | 2435  | 157 | 6.45% |"
   ]
  },
  {
   "cell_type": "markdown",
   "metadata": {},
   "source": [
    "The above table shows that for the observed data, the percentage of callbacks was greater for applicants with white sounding names.  \n",
    "\n",
    "As a reminder, my null hypothesis was the proportion of callbacks for white sounding applicants is the same as that for black sounding applicants."
   ]
  },
  {
   "cell_type": "markdown",
   "metadata": {},
   "source": [
    "In the permutation approach, the p-value was 0.  This means that after shuffling and resampling the data 10000 times, while assuming the null hypothesis was true, the calculated proportions of callbacks for black sounding applicants was never equal to or less than what was observed (0.065).  This led me to reject the null hypothesis. "
   ]
  },
  {
   "cell_type": "code",
   "execution_count": 21,
   "metadata": {},
   "outputs": [
    {
     "data": {
      "image/png": "[encoded data removed]",
      "text/plain": [
       "<Figure size 432x288 with 1 Axes>"
      ]
     },
     "metadata": {},
     "output_type": "display_data"
    }
   ],
   "source": [
    "# Plotting PDF of the proportion of applicants with black sounding names that received callbacks\n",
    "_ = plt.hist(perm_replicates, density = 1)\n",
    "_ = plt.axvline(x = 157/2435, color = 'r')\n",
    "_ = plt.text(0.065, 65, 'Observed proportion of \\ncallbacks for black \\nsounding applicants', color = 'r')\n",
    "_ = plt.xlabel('Proportion of callbacks for black sounding applicants')\n",
    "_ = plt.ylabel('PDF')\n",
    "_ = plt.title('Permutation Approach')"
   ]
  },
  {
   "cell_type": "markdown",
   "metadata": {},
   "source": [
    "In the bootstrap approach, the p-value was also 0.  This means that after resampling the data 10000 times, while assuming the null hypothesis was true, the calculated difference in proportions of callbacks for white and black sounding applicants was never equal to or greater than what was observed (0.032).  This again led me to reject the null hypothesis. "
   ]
  },
  {
   "cell_type": "code",
   "execution_count": 22,
   "metadata": {},
   "outputs": [
    {
     "data": {
      "image/png": "[encoded data removed]",
      "text/plain": [
       "<Figure size 432x288 with 1 Axes>"
      ]
     },
     "metadata": {},
     "output_type": "display_data"
    }
   ],
   "source": [
    "# Plotting PDF of the difference in the proportions of null data and the observed difference in proportion of callbacks\n",
    "_ = plt.hist(diff_null, density = 1)\n",
    "_ = plt.axvline(x = diff_obs, color = 'r')\n",
    "_ = plt.text(0.011, 35, 'Observed difference in \\nproportion of callbacks', color = 'r')\n",
    "_ = plt.xlabel('Difference in the proportions of callbacks (white minus black)')\n",
    "_ = plt.ylabel('PDF')\n",
    "_ = plt.title('Bootstrap Approach')"
   ]
  },
  {
   "cell_type": "markdown",
   "metadata": {},
   "source": [
    "Using the proportions z-test, the z-statistic was 4.11 and the p-value was 3.98 * 10^-5.  The large z-statistic indicates there is a difference in the proportions of callbacks for black and white sounding applicants.  As the calculated p-value is two sided, the significance level of 0.025 is considered (0.05 divided by 2).  The p-value is much smaller than the significance level so I would reject the null hypothesis.  Therefore, there indeed is a significant difference in the proportion of callbacks for white sounding applicants and that for black sounding applicants.  "
   ]
  },
  {
   "cell_type": "markdown",
   "metadata": {},
   "source": [
    "Using the bootstrap approach, the following 95% confidence intervals were generated: "
   ]
  },
  {
   "cell_type": "markdown",
   "metadata": {},
   "source": [
    "|  | 95% Confidence Interval |\n",
    "|---------|----------------|\n",
    "| Difference in proportion of callbacks (white minus black) | 0.017 to 0.047      |\n",
    "| Proportion of callbacks for white sounding applicants | 0.085 to 0.108 |\n",
    "| Proportion of callbacks for black sounding applicants | 0.055 to 0.074 |"
   ]
  },
  {
   "cell_type": "markdown",
   "metadata": {},
   "source": [
    "The confidence intervals for the proportion of callbacks for white and black sounding applicants do not overlap. In addition, the below figure shows that the distributions of the resampled data barely overlap.  This supports the alternative hypothesis that there is a significant difference in the two proportions. "
   ]
  },
  {
   "cell_type": "code",
   "execution_count": 23,
   "metadata": {},
   "outputs": [
    {
     "data": {
      "image/png": "[encoded data removed]",
      "text/plain": [
       "<Figure size 432x288 with 1 Axes>"
      ]
     },
     "metadata": {},
     "output_type": "display_data"
    }
   ],
   "source": [
    "# Plotting PDF of the proportion of applicants that received callbacks (bootstrap)\n",
    "_ = plt.hist(white_yes, density = 1)\n",
    "_ = plt.hist(black_yes, density = 1)\n",
    "_ = plt.legend(('Proportion Callback White', 'Proportion Callback Black'), loc = 'upper right')\n",
    "_ = plt.xlabel('Proportion of callbacks')\n",
    "_ = plt.ylabel('PDF')\n",
    "_ = plt.title('Bootstrap Approach')"
   ]
  },
  {
   "cell_type": "markdown",
   "metadata": {},
   "source": [
    "## 5. Does your analysis mean that race/name is the most important factor in callback success? Why or why not? If not, how would you amend your analysis?"
   ]
  },
  {
   "cell_type": "code",
   "execution_count": 24,
   "metadata": {},
   "outputs": [],
   "source": [
    "# Grouping data by race and computing the percent of callbacks\n",
    "data_race = data.pivot_table(index = 'race', columns = 'call', values = 'id', aggfunc = len, margins=True)\n",
    "data_race['Percent Callbacks'] = round(data_race[1.0] * 100 / data_race['All'], 2)\n",
    "\n",
    "# Grouping data by sex and computing the percent of callbacks\n",
    "data_sex = data.pivot_table(index = 'sex', columns = 'call', values = 'id', aggfunc = len, margins=True)\n",
    "data_sex['Percent Callbacks'] = round(data_sex[1.0] * 100 / data_sex['All'], 2)\n",
    "\n",
    "# Grouping data by military and computing the percent of callbacks\n",
    "data_military = data.pivot_table(index = 'military', columns = 'call', values = 'id', aggfunc = len, margins=True)\n",
    "data_military['Percent Callbacks'] = round(data_military[1.0] * 100 / data_military['All'], 2)\n",
    "\n",
    "# Grouping data by number of jobs of the applicant and computing the percent of callbacks\n",
    "data_jobs = data.pivot_table(index = 'ofjobs', columns = 'call', values = 'id', aggfunc = len, margins=True)\n",
    "data_jobs['Percent Callbacks'] = round(data_jobs[1.0] * 100 / data_jobs['All'], 2)\n",
    "\n",
    "# Grouping data by computer skills and computing the percent of callbacks \n",
    "data_computer = data.pivot_table(index = 'computerskills', columns = 'call', values = 'id', aggfunc = len, margins=True)\n",
    "data_computer['Percent Callbacks'] = round(data_computer[1.0] * 100 / data_computer['All'], 2)\n",
    "\n",
    "# Grouping data by special skills and computing the percent of callbacks\n",
    "data_skills = data.pivot_table(index = 'specialskills', columns = 'call', values = 'id', aggfunc = len, margins=True)\n",
    "data_skills['Percent Callbacks'] = round(data_skills[1.0] * 100 / data_skills['All'], 2)\n",
    "\n",
    "# Grouping data by city and computing the percent of callbacks\n",
    "data_city = data.pivot_table(index = 'city', columns = 'call', values = 'id', aggfunc = len, margins=True)\n",
    "data_city['Percent Callbacks'] = round(data_city[1.0] * 100 / data_city['All'], 2)\n",
    "\n",
    "# Grouping data by number of jobs of the applicant and computing the percent of callbacks\n",
    "data_exp = data.pivot_table(index = 'yearsexp', columns = 'call', values = 'id', aggfunc = len, margins=True)\n",
    "data_exp['Percent Callbacks'] = round(data_exp[1.0] * 100 / data_exp['All'], 2)"
   ]
  },
  {
   "cell_type": "code",
   "execution_count": 25,
   "metadata": {},
   "outputs": [
    {
     "data": {
      "image/png": "[encoded data removed]",
      "text/plain": [
       "<Figure size 1656x1296 with 8 Axes>"
      ]
     },
     "metadata": {},
     "output_type": "display_data"
    }
   ],
   "source": [
    "# Plotting figures\n",
    "\n",
    "fig, axes = plt.subplots(3, 3, figsize = (23,18))\n",
    "\n",
    "_ = data_race[:-1]['Percent Callbacks'].plot.bar(color='blue', ax=axes[0,0])\n",
    "_ = axes[0,0].set_ylabel('Percent of Callbacks')\n",
    "_ = axes[0,0].set_xlabel('Race')\n",
    "_ = axes[0,0].set_xticklabels(('Black', 'White'))\n",
    "\n",
    "_ = data_sex[:-1]['Percent Callbacks'].plot.bar(color='blue', ax=axes[0,1])\n",
    "_ = axes[0,1].set_ylabel('Percent of Callbacks')\n",
    "_ = axes[0,1].set_xlabel('Sex')\n",
    "\n",
    "_ = data_military[:-1]['Percent Callbacks'].plot.bar(color='blue', ax=axes[2,1])\n",
    "_ = axes[2,1].set_ylabel('Percent of Callbacks')\n",
    "_ = axes[2,1].set_xlabel('Military')\n",
    "_ = axes[2,1].set_xticklabels(('No', 'Yes'))\n",
    "\n",
    "_ = data_jobs[:-1]['Percent Callbacks'].plot.bar(color='blue', ax=axes[0,2])\n",
    "_ = axes[0,2].set_ylabel('Percent of Callbacks')\n",
    "_ = axes[0,2].set_xlabel('Number of Jobs')\n",
    "\n",
    "_ = data_computer[:-1]['Percent Callbacks'].plot.bar(color='blue', ax=axes[1,0])\n",
    "_ = ax=axes[1,0].set_ylabel('Percent of Callbacks')\n",
    "_ = ax=axes[1,0].set_xlabel('Computer Skills')\n",
    "_ = ax=axes[1,0].set_xticklabels(('No', 'Yes'))\n",
    "\n",
    "_ = data_skills[:-1]['Percent Callbacks'].plot.bar(color='blue', ax=axes[1,1])\n",
    "_ = axes[1,1].set_ylabel('Percent of Callbacks')\n",
    "_ = axes[1,1].set_xlabel('Special Skills')\n",
    "_ = axes[1,1].set_xticklabels(('No', 'Yes'))\n",
    "\n",
    "_ = data_city[:-1]['Percent Callbacks'].plot.bar(color='blue', ax=axes[1,2])\n",
    "_ = axes[1,2].set_ylabel('Percent of Callbacks')\n",
    "_ = axes[1,2].set_xlabel('City')\n",
    "_ = axes[1,2].set_xticklabels(('Boston', 'Chicago'))\n",
    "\n",
    "_ = data_exp[:-1]['Percent Callbacks'].plot.bar(color='blue', ax=axes[2,0])\n",
    "_ = axes[2,0].set_ylabel('Percent of Callbacks')\n",
    "_ = axes[2,0].set_xlabel('Years of Experience')\n",
    "\n",
    "fig.delaxes(axes[2,2]) "
   ]
  },
  {
   "cell_type": "markdown",
   "metadata": {},
   "source": [
    "There are 62 other meaningful columns of data that we can examine in regards to if the applicant received a callback or not.  Analysis of these columns will need to be performed in order to see if race/name is the most important factor in callback success.  \n",
    "\n",
    "Above are plots of some of the variables collected in this study and the percent of callbacks.  Applicants with white sounding names and those in Boston received a higher percentage of callbacks (by ~3%).  Applicants with no computer skills and those who were not in the military received a higher percentage of callbacks (by ~2%).  Female applicants actually received a higher percentage of callbacks then men, but this difference was smaller (~1%).  Applicants who had 1 job received a higher percentage of callbacks (by ~6%) than applicants who had 3, 4, and 6 jobs.  Applicants who had special skills received a higher percentage of callbacks (by ~6%).  Finally, applicants with 22 years of experience received a higher percentage of callbacks (~18%) than those with just 1 year of experience.  \n",
    "\n",
    "From my above preliminary analysis above, it appears that race/name may not have been the most important factor in callback success.  "
   ]
  }
 ],
 "metadata": {
  "kernelspec": {
   "display_name": "Python 3",
   "language": "python",
   "name": "python3"
  },
  "language_info": {
   "codemirror_mode": {
    "name": "ipython",
    "version": 3
   },
   "file_extension": ".py",
   "mimetype": "text/x-python",
   "name": "python",
   "nbconvert_exporter": "python",
   "pygments_lexer": "ipython3",
   "version": "3.6.5"
  }
 },
 "nbformat": 4,
 "nbformat_minor": 2
}
